{
 "cells": [
  {
   "cell_type": "markdown",
   "metadata": {},
   "source": [
    "# <center>  Perceptron - 06 / 10 / 2020 </center>#\n",
    "\n",
    "* <span style=\"color:red\">Cours</span>            : MICAS911-Introduction-To-Statistic-Learning\n",
    "* <span style=\"color:red\">Auteur</span>           : Bounhar Abdelaziz\n",
    "* <span style=\"color:red\">Auteur</span>           : Panongbene Jean Mohamed Sawadogo\n",
    "\n",
    "# <center> <span style=\"color:red\"><font size=\"+3\"> Assignment Perceptron </font></span> </center> #\n",
    "\n"
   ]
  },
  {
   "cell_type": "code",
   "execution_count": 579,
   "metadata": {},
   "outputs": [],
   "source": [
    "import numpy as np\n",
    "import pandas as pd\n",
    "import matplotlib.pyplot as plt\n",
    "from IPython.core.display import HTML\n",
    "from sklearn.model_selection import train_test_split"
   ]
  },
  {
   "cell_type": "code",
   "execution_count": 580,
   "metadata": {},
   "outputs": [],
   "source": [
    "%matplotlib inline"
   ]
  },
  {
   "cell_type": "code",
   "execution_count": 581,
   "metadata": {},
   "outputs": [
    {
     "data": {
      "text/html": [
       "\n",
       "<style>\n",
       ".output_png {\n",
       "    display: table-cell;\n",
       "    text-align: center;\n",
       "    vertical-align: middle;\n",
       "}\n",
       "</style>\n"
      ],
      "text/plain": [
       "<IPython.core.display.HTML object>"
      ]
     },
     "execution_count": 581,
     "metadata": {},
     "output_type": "execute_result"
    }
   ],
   "source": [
    "HTML(\"\"\"\n",
    "<style>\n",
    ".output_png {\n",
    "    display: table-cell;\n",
    "    text-align: center;\n",
    "    vertical-align: middle;\n",
    "}\n",
    "</style>\n",
    "\"\"\")"
   ]
  },
  {
   "cell_type": "markdown",
   "metadata": {},
   "source": [
    "# I. SYNTHETIC DATA"
   ]
  },
  {
   "cell_type": "code",
   "execution_count": 582,
   "metadata": {},
   "outputs": [],
   "source": [
    "#bias\n",
    "b = 1\n",
    "\n",
    "# weights \n",
    "weights = np.zeros(2, dtype=int)\n",
    "\n",
    "# learning rate\n",
    "learningRate = 0.01\n",
    "\n",
    "# loss error training \n",
    "lossTraining = list()"
   ]
  },
  {
   "cell_type": "code",
   "execution_count": 583,
   "metadata": {},
   "outputs": [],
   "source": [
    "# Data Generate Gaussian Distribution\n",
    "#X = np.concatenate((np.random.multivariate_normal(mu_1, matrix_cov, N//2),np.random.multivariate_normal(mu_2, matrix_cov, N//2)),axis=0)\n",
    "\n",
    "# Label Generate\n",
    "#Y = np.append(np.ones(N//2, dtype=int), np.zeros(N//2, dtype=int))"
   ]
  },
  {
   "cell_type": "code",
   "execution_count": 584,
   "metadata": {},
   "outputs": [],
   "source": [
    "# We generate the Gaussian Distribution\n",
    "#plt.scatter(X[:,0], X[:,1], c=Y)\n",
    "#plt.show()"
   ]
  },
  {
   "cell_type": "markdown",
   "metadata": {},
   "source": [
    "# Percepton's logic implementation"
   ]
  },
  {
   "cell_type": "code",
   "execution_count": 585,
   "metadata": {},
   "outputs": [],
   "source": [
    "def generateData(N, mu_1, mu_2, matrix_cov):\n",
    "    \"\"\"This function generate a datasets according to the means/covariance provided.\"\"\"\n",
    "    \n",
    "    # Data Generate with Gaussain Distribution\n",
    "    X1 = np.random.multivariate_normal(mu_1, matrix_cov, N//2)\n",
    "    X2 = np.random.multivariate_normal(mu_2, matrix_cov, N//2)\n",
    "    X = np.concatenate((X1,X2),axis=0)\n",
    "\n",
    "    # Labels\n",
    "    Y1 = np.ones(N//2, dtype=int)\n",
    "    Y2 = np.zeros(N//2, dtype=int)\n",
    "    Y = np.append(Y1,Y2)\n",
    "    \n",
    "    return X, Y\n",
    "\n",
    "\n",
    "def plot_Data(X, Y):\n",
    "    \"\"\"This function plots the datas.\"\"\"\n",
    "    \n",
    "    plt.figure(figsize=(20,10))\n",
    "    plt.scatter(X[:,0], X[:,1], c=Y)\n",
    "    plt.show()\n",
    "    \n",
    "    \n",
    "def plot_data_with_decision_line(X, Y, W):\n",
    "    \"\"\"This function plots the data with decision region.\"\"\"\n",
    "    plt.figure(figsize=(20,10))\n",
    "    \n",
    "    if(W[1]==0):\n",
    "        X1 = np.arange(-4-W[0],4-W[0],0.01)\n",
    "    else:\n",
    "        X1 = np.arange((-4-W[0])/W[1],(4-W[0])/W[1],0.01)\n",
    "    Y1 = W[1]*X1+W[0]\n",
    "\n",
    "    plt.scatter(X[:,0], X[:,1], c=Y)\n",
    "    plt.plot(X1, Y1)\n",
    "    plt.show()\n",
    "\n",
    "\n",
    "def mix_data(X,Y):\n",
    "    \"\"\"This function return the dataset and label shuffled/mixed.\"\"\"\n",
    "    \n",
    "    X_mixed = list()\n",
    "    Y_mixed = list()\n",
    "    indice = np.arange(start=0,stop=X.shape[0])\n",
    "    np.random.shuffle(indice)\n",
    "    \n",
    "    for i in range(indice.shape[0]):\n",
    "        X_mixed.append(X[indice[i]])\n",
    "        Y_mixed.append(Y[indice[i]])\n",
    "    \n",
    "    return np.array(X_mixed), np.array(Y_mixed)\n",
    "\n",
    "\n",
    "def add_the_biais_column(X):\n",
    "    \"\"\"This function add a biais column in X data\"\"\"\n",
    "    \n",
    "    X_training = list()\n",
    "\n",
    "    for i in range(X.shape[0]):\n",
    "        X_training.append(np.append(1,X[i]))\n",
    "\n",
    "    return np.array(X_training)\n",
    "\n",
    "\n",
    "def prediction(X, W):\n",
    "    \"\"\"This function return the prediction using the heaviside function as an activation function.\"\"\"\n",
    "    \n",
    "    return np.heaviside(np.sum(W*X),0)\n",
    "\n",
    "\n",
    "def training(X, Y, W ,learningRate):\n",
    "    \"\"\"This function take a sampling data and train the perceptron\"\"\"\n",
    "    \n",
    "    #we shuffle the dataset\n",
    "    X_training, Y_training = mix_data(X,Y)\n",
    "    \n",
    "    # we add the biais\n",
    "    X_training = add_the_biais_column(X_training)\n",
    "    \n",
    "    lossTraining = list()\n",
    "    \n",
    "    for i in range(X_training.shape[0]):\n",
    "        y = prediction(X_training[i],W)\n",
    "        \n",
    "        error = Y_training[i]-y\n",
    "        \n",
    "        W = W+learningRate*(error)*X_training[i]\n",
    "        lossTraining.append(np.abs(error))\n",
    "        \n",
    "    return W, lossTraining\n",
    "\n",
    "\n",
    "def standard_deviation(E):\n",
    "    \"\"\"This function return the standart deviation from an array of values\"\"\"\n",
    "    \n",
    "    E = np.array(E)\n",
    "    \n",
    "    e = np.sum(E)/E.shape[0]\n",
    "    return np.sqrt((np.sum(E)-e) / E.shape[0]) \n",
    "\n",
    "\n",
    "def testing(X, Y, W, printBool):\n",
    "    \"\"\"This function is used to test the perceptron.\"\"\"\n",
    "    \n",
    "    errors = 0\n",
    "    y_pred = list()\n",
    "    \n",
    "    X_training = add_the_biais_column(X)\n",
    "    \n",
    "    for i in range(X_training.shape[0]):\n",
    "        # we compute the prediction based on X and the weights W\n",
    "        y_pred.append(prediction(X_training[i], W))\n",
    "        \n",
    "    errors = np.abs(y_pred-Y)\n",
    "    sumErrors = np.sum(errors)\n",
    "    accuracy = 1 - (sumErrors/len(Y))\n",
    "    if printBool :\n",
    "        print(\"[TEST] Total number of errors : \",sumErrors)\n",
    "        print(\"[TEST] Accuracy : \",accuracy)\n",
    "    \n",
    "    return y_pred"
   ]
  },
  {
   "cell_type": "markdown",
   "metadata": {},
   "source": [
    "### Example"
   ]
  },
  {
   "cell_type": "code",
   "execution_count": 586,
   "metadata": {},
   "outputs": [
    {
     "data": {
      "image/png": "[encoded data removed]",
      "text/plain": [
       "<Figure size 1440x720 with 1 Axes>"
      ]
     },
     "metadata": {
      "needs_background": "light"
     },
     "output_type": "display_data"
    }
   ],
   "source": [
    "# The number of points is N = 200\n",
    "N = 200\n",
    "\n",
    "# Gaussian mean for distribution label 1 \n",
    "mu_1 = np.array([1,0])\n",
    "\n",
    "# Gaussian mean for distribution label 0\n",
    "mu_2 = np.array([-1,0])\n",
    "\n",
    "# Standard deviation for Gaussian Distribution\n",
    "sigma_ = 0.75 \n",
    "matrix_cov =sigma_* np.array([[1, 0],[0, 1]])\n",
    "\n",
    "# Generate the data\n",
    "X, Y = generateData(N, mu_1, mu_2, matrix_cov)\n",
    "\n",
    "# Plot the data \n",
    "plot_Data(X, Y)"
   ]
  },
  {
   "cell_type": "code",
   "execution_count": 587,
   "metadata": {},
   "outputs": [],
   "source": [
    "# Train the perceptron algorithm with the data generated previously\n",
    "W = np.zeros(3, dtype=int)\n",
    "learningRates = 1\n",
    "\n",
    "W, lossTraining = training(X, Y, W, learningRates)"
   ]
  },
  {
   "cell_type": "code",
   "execution_count": 588,
   "metadata": {},
   "outputs": [
    {
     "data": {
      "image/png": "[encoded data removed]",
      "text/plain": [
       "<Figure size 1440x720 with 1 Axes>"
      ]
     },
     "metadata": {
      "needs_background": "light"
     },
     "output_type": "display_data"
    }
   ],
   "source": [
    "# Visualization of data generated with the solution\n",
    "testing(X, Y, W, 0)\n",
    "plot_data_with_decision_line(X, Y, W)"
   ]
  },
  {
   "cell_type": "markdown",
   "metadata": {},
   "source": [
    "## Question 2 :"
   ]
  },
  {
   "cell_type": "code",
   "execution_count": 589,
   "metadata": {},
   "outputs": [],
   "source": [
    "# Size of data \n",
    "N = 200\n",
    "\n",
    "# noise variance sigma_2\n",
    "sigma_2 = [0.05, 0.25, 0.50, 0.75]\n",
    "\n",
    "# average error of the model\n",
    "average_error_sigma= list()\n",
    "\n",
    "# standar deviation of the model\n",
    "standard_deviation_sigma = list()\n",
    "\n",
    "# learning \n",
    "learningRates = 1"
   ]
  },
  {
   "cell_type": "code",
   "execution_count": 590,
   "metadata": {},
   "outputs": [],
   "source": [
    "# average error of the model\n",
    "average_error_sigma= list()\n",
    "\n",
    "# standar deviation of the model\n",
    "standard_deviation_sigma = list()\n",
    "\n",
    "for sigma in sigma_2:\n",
    "    \n",
    "    #Build the matrix_cov\n",
    "    matrix_cov =sigma* np.array([[1, 0],[0, 1]])\n",
    "    \n",
    "    # initializa the weight\n",
    "    W = np.zeros(3, dtype=int)\n",
    "    \n",
    "    # average error of the model\n",
    "    average_error_= list()\n",
    "    \n",
    "    for i in range(50):\n",
    "        \n",
    "        # generate training and testing data sets\n",
    "        X_train, Y_train = generateData(N, mu_1, mu_2, matrix_cov)\n",
    "        X_test, Y_test = generateData(N, mu_1, mu_2, matrix_cov)\n",
    "\n",
    "        #train the model\n",
    "        W, lossTraining = training(X_train, Y_train, W, learningRates)\n",
    "    \n",
    "        # Test the model\n",
    "        Y_predic = testing(X_test, Y_test, W, 0)\n",
    "    \n",
    "        errors = np.abs(Y_predic-Y_test)\n",
    "        \n",
    "        average_error_.append(np.sum(errors)/N)\n",
    "    \n",
    "    average_error_ = np.array(average_error_)\n",
    "    \n",
    "    errors = 0\n",
    "    for i in range(average_error_.shape[0]):\n",
    "        errors +=average_error_[i]\n",
    "        \n",
    "    average_error_sigma.append(errors/50)\n",
    "        \n",
    "    standard_deviation_sigma.append(standard_deviation(np.array(average_error_)))\n"
   ]
  },
  {
   "cell_type": "code",
   "execution_count": 591,
   "metadata": {},
   "outputs": [
    {
     "name": "stdout",
     "output_type": "stream",
     "text": [
      "------------------------------------standard_deviation_error--------------------------------------\n",
      "[0.0, 0.0351, 0.1104, 0.17850000000000002]\n",
      "-------------------------------------------error--------------------------------------------------\n",
      "[0.0, 0.18546697819288477, 0.32892552348518045, 0.4182463388961104]\n"
     ]
    }
   ],
   "source": [
    "print(\"------------------------------------standard_deviation_error--------------------------------------\")\n",
    "print(average_error_sigma)\n",
    "print(\"-------------------------------------------error--------------------------------------------------\")\n",
    "print(standard_deviation_sigma)\n"
   ]
  },
  {
   "cell_type": "code",
   "execution_count": 592,
   "metadata": {},
   "outputs": [
    {
     "data": {
      "text/plain": [
       "<ErrorbarContainer object of 3 artists>"
      ]
     },
     "execution_count": 592,
     "metadata": {},
     "output_type": "execute_result"
    },
    {
     "data": {
      "image/png": "[encoded data removed]",
      "text/plain": [
       "<Figure size 432x288 with 1 Axes>"
      ]
     },
     "metadata": {
      "needs_background": "light"
     },
     "output_type": "display_data"
    }
   ],
   "source": [
    "# plot the errors bar\n",
    "values = average_error_sigma\n",
    "errorValues = standard_deviation_sigma\n",
    "plt.bar(range(len(values)), values, color = 'skyblue')\n",
    "plt.errorbar(range(len(values)), values, yerr = errorValues,fmt = 'none', capsize = 10, ecolor = 'red', elinewidth = 2, capthick = 8)\n"
   ]
  },
  {
   "cell_type": "markdown",
   "metadata": {},
   "source": [
    "## Comment ?"
   ]
  },
  {
   "cell_type": "markdown",
   "metadata": {},
   "source": [
    "We find that the mean value of the error and the standard deviation increases gradually with the value of the variance. Thus, we can say that the larger the standard ecc deviation, the larger the error interval"
   ]
  },
  {
   "cell_type": "markdown",
   "metadata": {},
   "source": [
    "## Question 3 :"
   ]
  },
  {
   "cell_type": "code",
   "execution_count": 593,
   "metadata": {},
   "outputs": [],
   "source": [
    "# data size\n",
    "N = 200\n",
    "\n",
    "# Generate the data with sigma_2 = 0.15\n",
    "matrix_cov =0.15* np.array([[1, 0],[0, 1]])\n",
    "\n",
    "# Gaussian mean for distribution label 1 \n",
    "mu_1 = np.array([1,0])\n",
    "\n",
    "# Gaussian mean for distribution label 0\n",
    "mu_2 = np.array([-1,0])\n",
    "\n",
    "# learning rate\n",
    "learningRates = 1\n",
    "\n",
    "# the different value of p\n",
    "p_parameter = [0, 0.05, 0.1, 0.2]\n",
    "\n",
    "# average error of the model\n",
    "average_error_p = list()\n",
    "\n",
    "# standar deviation of the model\n",
    "standard_deviation_error_p = list()\n",
    "\n",
    "def generate_data_with_p_parameter(p, N,mu_1, mu_2, matrix_cov):\n",
    "    \"\"\"This function generate data using methode descript in question 3\"\"\"\n",
    "    X, Y = generateData(N, mu_1, mu_2, matrix_cov)\n",
    "    \n",
    "    for i in range(N):\n",
    "        kk = np.random.binomial(1, p, 1)[0]\n",
    "        if(p==1):\n",
    "            Y[i] = np.abs(Y[i]-1)\n",
    "            \n",
    "    return X, Y"
   ]
  },
  {
   "cell_type": "code",
   "execution_count": 594,
   "metadata": {},
   "outputs": [],
   "source": [
    "# average error of the model\n",
    "average_error_p = list()\n",
    "\n",
    "# standar deviation of the model\n",
    "standard_deviation_error_p = list()\n",
    "\n",
    "for p in p_parameter:\n",
    "    \n",
    "    #initialize the weight\n",
    "    W = np.zeros(3, dtype=int)\n",
    "    \n",
    "    # average error of the model\n",
    "    average_error_= list()\n",
    "    \n",
    "    for i in range(50):\n",
    "        \n",
    "        # generate data sets\n",
    "        X_train, Y_train = generate_data_with_p_parameter(p, N, mu_1, mu_2, matrix_cov)\n",
    "        X_test, Y_test = generate_data_with_p_parameter(p, N, mu_1, mu_2, matrix_cov)\n",
    "\n",
    "        #train the model\n",
    "        W, lossTraining = training(X_train, Y_train, W, learningRates)\n",
    "    \n",
    "        # Test the model\n",
    "        Y_predic = testing(X_test, Y_test, W, 0)\n",
    "    \n",
    "        errors = np.abs(Y_predic-Y_test)\n",
    "        \n",
    "        average_error_.append(np.sum(errors)/N)\n",
    "    \n",
    "    average_error_ = np.array(average_error_)\n",
    "    \n",
    "    errors = 0\n",
    "    for i in range(average_error_.shape[0]):\n",
    "        errors +=average_error_[i]\n",
    "        \n",
    "    average_error_p.append(errors/50)\n",
    "        \n",
    "    standard_deviation_error_p.append(standard_deviation(np.array(average_error_)))\n"
   ]
  },
  {
   "cell_type": "code",
   "execution_count": 595,
   "metadata": {},
   "outputs": [
    {
     "name": "stdout",
     "output_type": "stream",
     "text": [
      "------------------------------------standard_deviation_error--------------------------------------\n",
      "[0.08630179604156568, 0.09018869108707588, 0.09126883367283709, 0.08042387705153241]\n",
      "-------------------------------------------error--------------------------------------------------\n",
      "[0.0076000000000000035, 0.008300000000000004, 0.008500000000000002, 0.006600000000000003]\n"
     ]
    }
   ],
   "source": [
    "print(\"------------------------------------standard_deviation_error--------------------------------------\")\n",
    "print(standard_deviation_error_p)\n",
    "print(\"-------------------------------------------error--------------------------------------------------\")\n",
    "print(average_error_p)"
   ]
  },
  {
   "cell_type": "code",
   "execution_count": 596,
   "metadata": {},
   "outputs": [
    {
     "data": {
      "text/plain": [
       "<ErrorbarContainer object of 3 artists>"
      ]
     },
     "execution_count": 596,
     "metadata": {},
     "output_type": "execute_result"
    },
    {
     "data": {
      "image/png": "[encoded data removed]",
      "text/plain": [
       "<Figure size 432x288 with 1 Axes>"
      ]
     },
     "metadata": {
      "needs_background": "light"
     },
     "output_type": "display_data"
    }
   ],
   "source": [
    "# plot the errors bar\n",
    "values = average_error_p\n",
    "errorValues = standard_deviation_error_p\n",
    "plt.bar(range(len(values)), values, color = 'skyblue')\n",
    "plt.errorbar(range(len(values)), values, yerr = errorValues,fmt = 'none', capsize = 10, ecolor = 'red', elinewidth = 2, capthick = 8)"
   ]
  },
  {
   "cell_type": "markdown",
   "metadata": {},
   "source": [
    "## Comment ?"
   ]
  },
  {
   "cell_type": "markdown",
   "metadata": {},
   "source": [
    "Unlike question one, we find that the larger the value of p, the smaller the interval defined by the standard deviation and also the smaller the error. So we can say that the larger p, the smaller the interval defined by the standard deviation."
   ]
  },
  {
   "cell_type": "markdown",
   "metadata": {},
   "source": [
    "# II. REAL DATA"
   ]
  },
  {
   "cell_type": "code",
   "execution_count": 597,
   "metadata": {},
   "outputs": [],
   "source": [
    "# load data using pandas\n",
    "iris_data = pd.read_csv('data/iris.data', delimiter=',')"
   ]
  },
  {
   "cell_type": "code",
   "execution_count": 598,
   "metadata": {},
   "outputs": [],
   "source": [
    "# build a datafram pandas with name column\n",
    "firts_line = iris_data.columns\n",
    "iris_data.columns = ['Sepal Lenght', 'Sepal Width', 'Petal Lenght', 'Petal Width','Class']\n",
    "df_new_line = pd.DataFrame([[float(firts_line[0]),float(firts_line[1]),float(firts_line[2]),float(firts_line[3]),firts_line[4]]], columns=['Sepal Lenght', 'Sepal Width', 'Petal Lenght', 'Petal Width','Class'] )\n",
    "iris_data = pd.concat([df_new_line,iris_data], ignore_index=True)"
   ]
  },
  {
   "cell_type": "code",
   "execution_count": 599,
   "metadata": {},
   "outputs": [],
   "source": [
    "# build the vector class and the vector data\n",
    "Y = list()\n",
    "for i in range(iris_data.shape[0]):\n",
    "    if(iris_data[\"Class\"].iloc[i] == \"Iris-setosa\"):\n",
    "        Y.append(0)\n",
    "        continue\n",
    "    if(iris_data[\"Class\"].iloc[i] == \"Iris-versicolor\"):\n",
    "        Y.append(1)\n",
    "        continue\n",
    "    if(iris_data[\"Class\"].iloc[i] == \"Iris-virginica\"):\n",
    "        Y.append(2)\n",
    "        continue\n",
    "\n",
    "Y = np.array(Y)\n",
    "X = iris_data.drop(['Class'], axis=1).values"
   ]
  },
  {
   "cell_type": "code",
   "execution_count": 600,
   "metadata": {},
   "outputs": [
    {
     "name": "stdout",
     "output_type": "stream",
     "text": [
      "iris_data_training size =  (120, 5)\n",
      "iris_data_testing size  =  (30, 5)\n"
     ]
    }
   ],
   "source": [
    "# split the datafram iris two part : the training data size 80% and the testing data size 20%\n",
    "msk = np.random.rand(len(iris_data)) < 0.8\n",
    "\n",
    "iris_data_training = iris_data[msk]\n",
    "iris_data_testing = iris_data[~msk]\n",
    "\n",
    "print(\"iris_data_training size = \",iris_data_training.shape)\n",
    "print(\"iris_data_testing size  = \",iris_data_testing.shape)"
   ]
  },
  {
   "cell_type": "markdown",
   "metadata": {},
   "source": [
    "# 2.1 Application to binary classification"
   ]
  },
  {
   "cell_type": "markdown",
   "metadata": {},
   "source": [
    "# Question 1"
   ]
  },
  {
   "cell_type": "code",
   "execution_count": 601,
   "metadata": {},
   "outputs": [
    {
     "data": {
      "image/png": "[encoded data removed]",
      "text/plain": [
       "<Figure size 1440x720 with 2 Axes>"
      ]
     },
     "metadata": {
      "needs_background": "light"
     },
     "output_type": "display_data"
    }
   ],
   "source": [
    "labels = [0, 1, 2]\n",
    "classes = ['setosa','versicolor','virginica']\n",
    "\n",
    "plt.figure(figsize=(20,10))\n",
    "plt.scatter(iris_data['Sepal Lenght'], iris_data['Sepal Width'], c=Y)\n",
    "plt.xlabel(\"sepal length (cm)\")\n",
    "plt.ylabel(\"sepal width (cm)\")\n",
    "\n",
    "cb = plt.colorbar()\n",
    "loc = np.arange(0,max(labels)+1,(1+max(labels))/float(len(classes)))\n",
    "cb.set_ticks(loc)\n",
    "cb.set_ticklabels(classes)\n",
    "\n",
    "plt.show()"
   ]
  },
  {
   "cell_type": "markdown",
   "metadata": {},
   "source": [
    "# Question 2 : "
   ]
  },
  {
   "cell_type": "code",
   "execution_count": 602,
   "metadata": {},
   "outputs": [],
   "source": [
    "iris_data_first_two_class =iris_data[iris_data[\"Class\"] != \"Iris-virginica\"]\n",
    "# build the vector class and the vector data\n",
    "Y_two_class = list()\n",
    "for i in range(iris_data_first_two_class.shape[0]):\n",
    "    if(iris_data_first_two_class[\"Class\"].iloc[i] == \"Iris-setosa\"):\n",
    "        Y_two_class.append(0)\n",
    "        continue\n",
    "    if(iris_data_first_two_class[\"Class\"].iloc[i] == \"Iris-versicolor\"):\n",
    "        Y_two_class.append(1)\n",
    "        continue\n",
    "    \n",
    "Y_two_class = np.array(Y_two_class)"
   ]
  },
  {
   "cell_type": "code",
   "execution_count": 603,
   "metadata": {},
   "outputs": [
    {
     "data": {
      "image/png": "[encoded data removed]",
      "text/plain": [
       "<Figure size 1440x720 with 2 Axes>"
      ]
     },
     "metadata": {
      "needs_background": "light"
     },
     "output_type": "display_data"
    }
   ],
   "source": [
    "labels = [0, 1]\n",
    "classes = ['setosa','versicolor']\n",
    "\n",
    "plt.figure(figsize=(20,10))\n",
    "plt.scatter(iris_data_first_two_class['Sepal Lenght'], iris_data_first_two_class['Sepal Width'], c=Y_two_class)\n",
    "plt.xlabel(\"sepal length (cm)\")\n",
    "plt.ylabel(\"sepal width (cm)\")\n",
    "\n",
    "cb = plt.colorbar()\n",
    "loc = np.arange(0,max(labels)+1,(1+max(labels))/float(len(classes)))\n",
    "cb.set_ticks(loc)\n",
    "cb.set_ticklabels(classes)\n",
    "\n",
    "plt.show()"
   ]
  },
  {
   "cell_type": "markdown",
   "metadata": {},
   "source": [
    "### Training the perceptron"
   ]
  },
  {
   "cell_type": "code",
   "execution_count": 604,
   "metadata": {},
   "outputs": [],
   "source": [
    "from sklearn.utils import shuffle"
   ]
  },
  {
   "cell_type": "code",
   "execution_count": 605,
   "metadata": {},
   "outputs": [],
   "source": [
    "iris_data_first_two_class = iris_data_first_two_class.drop([\"Class\"], axis=1)"
   ]
  },
  {
   "cell_type": "code",
   "execution_count": 606,
   "metadata": {},
   "outputs": [],
   "source": [
    "df = iris_data_first_two_class\n",
    "df[\"Class\"] = Y_two_class"
   ]
  },
  {
   "cell_type": "code",
   "execution_count": 607,
   "metadata": {},
   "outputs": [],
   "source": [
    "# Mixing the data\n",
    "df = shuffle(df)"
   ]
  },
  {
   "cell_type": "code",
   "execution_count": 608,
   "metadata": {},
   "outputs": [
    {
     "data": {
      "text/html": [
       "<div>\n",
       "<style scoped>\n",
       "    .dataframe tbody tr th:only-of-type {\n",
       "        vertical-align: middle;\n",
       "    }\n",
       "\n",
       "    .dataframe tbody tr th {\n",
       "        vertical-align: top;\n",
       "    }\n",
       "\n",
       "    .dataframe thead th {\n",
       "        text-align: right;\n",
       "    }\n",
       "</style>\n",
       "<table border=\"1\" class=\"dataframe\">\n",
       "  <thead>\n",
       "    <tr style=\"text-align: right;\">\n",
       "      <th></th>\n",
       "      <th>Sepal Lenght</th>\n",
       "      <th>Sepal Width</th>\n",
       "      <th>Petal Lenght</th>\n",
       "      <th>Petal Width</th>\n",
       "      <th>Class</th>\n",
       "    </tr>\n",
       "  </thead>\n",
       "  <tbody>\n",
       "    <tr>\n",
       "      <td>6</td>\n",
       "      <td>4.6</td>\n",
       "      <td>3.4</td>\n",
       "      <td>1.4</td>\n",
       "      <td>0.3</td>\n",
       "      <td>0</td>\n",
       "    </tr>\n",
       "    <tr>\n",
       "      <td>54</td>\n",
       "      <td>6.5</td>\n",
       "      <td>2.8</td>\n",
       "      <td>4.6</td>\n",
       "      <td>1.5</td>\n",
       "      <td>1</td>\n",
       "    </tr>\n",
       "    <tr>\n",
       "      <td>89</td>\n",
       "      <td>5.5</td>\n",
       "      <td>2.5</td>\n",
       "      <td>4.0</td>\n",
       "      <td>1.3</td>\n",
       "      <td>1</td>\n",
       "    </tr>\n",
       "    <tr>\n",
       "      <td>74</td>\n",
       "      <td>6.4</td>\n",
       "      <td>2.9</td>\n",
       "      <td>4.3</td>\n",
       "      <td>1.3</td>\n",
       "      <td>1</td>\n",
       "    </tr>\n",
       "    <tr>\n",
       "      <td>45</td>\n",
       "      <td>4.8</td>\n",
       "      <td>3.0</td>\n",
       "      <td>1.4</td>\n",
       "      <td>0.3</td>\n",
       "      <td>0</td>\n",
       "    </tr>\n",
       "    <tr>\n",
       "      <td>...</td>\n",
       "      <td>...</td>\n",
       "      <td>...</td>\n",
       "      <td>...</td>\n",
       "      <td>...</td>\n",
       "      <td>...</td>\n",
       "    </tr>\n",
       "    <tr>\n",
       "      <td>73</td>\n",
       "      <td>6.1</td>\n",
       "      <td>2.8</td>\n",
       "      <td>4.7</td>\n",
       "      <td>1.2</td>\n",
       "      <td>1</td>\n",
       "    </tr>\n",
       "    <tr>\n",
       "      <td>33</td>\n",
       "      <td>5.5</td>\n",
       "      <td>4.2</td>\n",
       "      <td>1.4</td>\n",
       "      <td>0.2</td>\n",
       "      <td>0</td>\n",
       "    </tr>\n",
       "    <tr>\n",
       "      <td>52</td>\n",
       "      <td>6.9</td>\n",
       "      <td>3.1</td>\n",
       "      <td>4.9</td>\n",
       "      <td>1.5</td>\n",
       "      <td>1</td>\n",
       "    </tr>\n",
       "    <tr>\n",
       "      <td>12</td>\n",
       "      <td>4.8</td>\n",
       "      <td>3.0</td>\n",
       "      <td>1.4</td>\n",
       "      <td>0.1</td>\n",
       "      <td>0</td>\n",
       "    </tr>\n",
       "    <tr>\n",
       "      <td>16</td>\n",
       "      <td>5.4</td>\n",
       "      <td>3.9</td>\n",
       "      <td>1.3</td>\n",
       "      <td>0.4</td>\n",
       "      <td>0</td>\n",
       "    </tr>\n",
       "  </tbody>\n",
       "</table>\n",
       "<p>100 rows × 5 columns</p>\n",
       "</div>"
      ],
      "text/plain": [
       "    Sepal Lenght  Sepal Width  Petal Lenght  Petal Width  Class\n",
       "6            4.6          3.4           1.4          0.3      0\n",
       "54           6.5          2.8           4.6          1.5      1\n",
       "89           5.5          2.5           4.0          1.3      1\n",
       "74           6.4          2.9           4.3          1.3      1\n",
       "45           4.8          3.0           1.4          0.3      0\n",
       "..           ...          ...           ...          ...    ...\n",
       "73           6.1          2.8           4.7          1.2      1\n",
       "33           5.5          4.2           1.4          0.2      0\n",
       "52           6.9          3.1           4.9          1.5      1\n",
       "12           4.8          3.0           1.4          0.1      0\n",
       "16           5.4          3.9           1.3          0.4      0\n",
       "\n",
       "[100 rows x 5 columns]"
      ]
     },
     "execution_count": 608,
     "metadata": {},
     "output_type": "execute_result"
    }
   ],
   "source": [
    "df"
   ]
  },
  {
   "cell_type": "code",
   "execution_count": 609,
   "metadata": {},
   "outputs": [],
   "source": [
    "X = df[['Sepal Lenght', 'Sepal Width', 'Petal Lenght', 'Petal Width']]"
   ]
  },
  {
   "cell_type": "code",
   "execution_count": 610,
   "metadata": {},
   "outputs": [],
   "source": [
    "Y = df[\"Class\"]"
   ]
  },
  {
   "cell_type": "code",
   "execution_count": 611,
   "metadata": {},
   "outputs": [
    {
     "data": {
      "text/html": [
       "<div>\n",
       "<style scoped>\n",
       "    .dataframe tbody tr th:only-of-type {\n",
       "        vertical-align: middle;\n",
       "    }\n",
       "\n",
       "    .dataframe tbody tr th {\n",
       "        vertical-align: top;\n",
       "    }\n",
       "\n",
       "    .dataframe thead th {\n",
       "        text-align: right;\n",
       "    }\n",
       "</style>\n",
       "<table border=\"1\" class=\"dataframe\">\n",
       "  <thead>\n",
       "    <tr style=\"text-align: right;\">\n",
       "      <th></th>\n",
       "      <th>Sepal Lenght</th>\n",
       "      <th>Sepal Width</th>\n",
       "      <th>Petal Lenght</th>\n",
       "      <th>Petal Width</th>\n",
       "    </tr>\n",
       "  </thead>\n",
       "  <tbody>\n",
       "    <tr>\n",
       "      <td>6</td>\n",
       "      <td>4.6</td>\n",
       "      <td>3.4</td>\n",
       "      <td>1.4</td>\n",
       "      <td>0.3</td>\n",
       "    </tr>\n",
       "    <tr>\n",
       "      <td>54</td>\n",
       "      <td>6.5</td>\n",
       "      <td>2.8</td>\n",
       "      <td>4.6</td>\n",
       "      <td>1.5</td>\n",
       "    </tr>\n",
       "    <tr>\n",
       "      <td>89</td>\n",
       "      <td>5.5</td>\n",
       "      <td>2.5</td>\n",
       "      <td>4.0</td>\n",
       "      <td>1.3</td>\n",
       "    </tr>\n",
       "    <tr>\n",
       "      <td>74</td>\n",
       "      <td>6.4</td>\n",
       "      <td>2.9</td>\n",
       "      <td>4.3</td>\n",
       "      <td>1.3</td>\n",
       "    </tr>\n",
       "    <tr>\n",
       "      <td>45</td>\n",
       "      <td>4.8</td>\n",
       "      <td>3.0</td>\n",
       "      <td>1.4</td>\n",
       "      <td>0.3</td>\n",
       "    </tr>\n",
       "    <tr>\n",
       "      <td>...</td>\n",
       "      <td>...</td>\n",
       "      <td>...</td>\n",
       "      <td>...</td>\n",
       "      <td>...</td>\n",
       "    </tr>\n",
       "    <tr>\n",
       "      <td>73</td>\n",
       "      <td>6.1</td>\n",
       "      <td>2.8</td>\n",
       "      <td>4.7</td>\n",
       "      <td>1.2</td>\n",
       "    </tr>\n",
       "    <tr>\n",
       "      <td>33</td>\n",
       "      <td>5.5</td>\n",
       "      <td>4.2</td>\n",
       "      <td>1.4</td>\n",
       "      <td>0.2</td>\n",
       "    </tr>\n",
       "    <tr>\n",
       "      <td>52</td>\n",
       "      <td>6.9</td>\n",
       "      <td>3.1</td>\n",
       "      <td>4.9</td>\n",
       "      <td>1.5</td>\n",
       "    </tr>\n",
       "    <tr>\n",
       "      <td>12</td>\n",
       "      <td>4.8</td>\n",
       "      <td>3.0</td>\n",
       "      <td>1.4</td>\n",
       "      <td>0.1</td>\n",
       "    </tr>\n",
       "    <tr>\n",
       "      <td>16</td>\n",
       "      <td>5.4</td>\n",
       "      <td>3.9</td>\n",
       "      <td>1.3</td>\n",
       "      <td>0.4</td>\n",
       "    </tr>\n",
       "  </tbody>\n",
       "</table>\n",
       "<p>100 rows × 4 columns</p>\n",
       "</div>"
      ],
      "text/plain": [
       "    Sepal Lenght  Sepal Width  Petal Lenght  Petal Width\n",
       "6            4.6          3.4           1.4          0.3\n",
       "54           6.5          2.8           4.6          1.5\n",
       "89           5.5          2.5           4.0          1.3\n",
       "74           6.4          2.9           4.3          1.3\n",
       "45           4.8          3.0           1.4          0.3\n",
       "..           ...          ...           ...          ...\n",
       "73           6.1          2.8           4.7          1.2\n",
       "33           5.5          4.2           1.4          0.2\n",
       "52           6.9          3.1           4.9          1.5\n",
       "12           4.8          3.0           1.4          0.1\n",
       "16           5.4          3.9           1.3          0.4\n",
       "\n",
       "[100 rows x 4 columns]"
      ]
     },
     "execution_count": 611,
     "metadata": {},
     "output_type": "execute_result"
    }
   ],
   "source": [
    "X"
   ]
  },
  {
   "cell_type": "code",
   "execution_count": 612,
   "metadata": {},
   "outputs": [
    {
     "data": {
      "text/plain": [
       "6     0\n",
       "54    1\n",
       "89    1\n",
       "74    1\n",
       "45    0\n",
       "     ..\n",
       "73    1\n",
       "33    0\n",
       "52    1\n",
       "12    0\n",
       "16    0\n",
       "Name: Class, Length: 100, dtype: int32"
      ]
     },
     "execution_count": 612,
     "metadata": {},
     "output_type": "execute_result"
    }
   ],
   "source": [
    "Y"
   ]
  },
  {
   "cell_type": "markdown",
   "metadata": {},
   "source": [
    "### Spliting the data into train and test"
   ]
  },
  {
   "cell_type": "code",
   "execution_count": 613,
   "metadata": {},
   "outputs": [],
   "source": [
    "X_train, X_test, y_train, y_test = train_test_split(X, Y, test_size=0.35, random_state=10)"
   ]
  },
  {
   "cell_type": "code",
   "execution_count": 614,
   "metadata": {},
   "outputs": [
    {
     "data": {
      "text/plain": [
       "(65, 4)"
      ]
     },
     "execution_count": 614,
     "metadata": {},
     "output_type": "execute_result"
    }
   ],
   "source": [
    "X_train.shape"
   ]
  },
  {
   "cell_type": "code",
   "execution_count": 615,
   "metadata": {},
   "outputs": [
    {
     "data": {
      "text/plain": [
       "(65,)"
      ]
     },
     "execution_count": 615,
     "metadata": {},
     "output_type": "execute_result"
    }
   ],
   "source": [
    "y_train.shape"
   ]
  },
  {
   "cell_type": "code",
   "execution_count": 616,
   "metadata": {},
   "outputs": [],
   "source": [
    "# Those conversions are done in order to re-use the functions we've already defined.\n",
    "\n",
    "# All, we save it to plot the decision region\n",
    "X_np = X.to_numpy()\n",
    "Y_np = Y.to_numpy()\n",
    "\n",
    "# Train data\n",
    "X_train_np = X_train.to_numpy()\n",
    "y_train_np = y_train.to_numpy()\n",
    "\n",
    "# Test data\n",
    "X_test_np = X_test.to_numpy()\n",
    "y_test_np = y_test.to_numpy()"
   ]
  },
  {
   "cell_type": "code",
   "execution_count": 617,
   "metadata": {},
   "outputs": [],
   "source": [
    "W = np.zeros(5, dtype=int)\n",
    "learningRates = 1\n",
    "\n",
    "W, lossTraining = training(X_train_np, y_train_np, W, learningRates)"
   ]
  },
  {
   "cell_type": "markdown",
   "metadata": {},
   "source": [
    "### Testing the perceptron"
   ]
  },
  {
   "cell_type": "code",
   "execution_count": 618,
   "metadata": {},
   "outputs": [
    {
     "name": "stdout",
     "output_type": "stream",
     "text": [
      "[TEST] Total number of errors :  0.0\n",
      "[TEST] Accuracy :  1.0\n"
     ]
    }
   ],
   "source": [
    "# Visualization of data generated with the solution\n",
    "y_pred = testing(X_test_np, y_test_np, W, 1)"
   ]
  },
  {
   "cell_type": "code",
   "execution_count": 619,
   "metadata": {},
   "outputs": [
    {
     "data": {
      "text/plain": [
       "array([-1. , -1.9, -4. ,  7.1,  3.8])"
      ]
     },
     "execution_count": 619,
     "metadata": {},
     "output_type": "execute_result"
    }
   ],
   "source": [
    "W"
   ]
  },
  {
   "cell_type": "code",
   "execution_count": 727,
   "metadata": {},
   "outputs": [],
   "source": [
    "def plot_data_with_decision_line(X, Y, W):\n",
    "    \"\"\"This function plots the data with decision region.\"\"\"\n",
    "    plt.figure(figsize=(20,10))\n",
    "    \n",
    "    if(W[1]==0):\n",
    "        X1 = np.arange(4-W[0],4+W[0],0.01)\n",
    "    else:\n",
    "        X1 = np.arange((4-W[0])/W[1],(4+W[0])/W[1],0.01)\n",
    "        \n",
    "    #Y1 =  W[1]*X1 + W[0]\n",
    "    Y1 = (W[3]/W[0]+ W[2]/W[0] + W[1]/W[0])*X1 + W[0]\n",
    "    \n",
    "    ##########################################\n",
    "    ##########################################\n",
    "    \n",
    "    \n",
    "    # Here i am calculating slope and intercept with the given weights\n",
    "    for i in np.linspace(np.amin(X[:,:1]),np.amax(X[:,:1])):\n",
    "        slope = -(W[0]/W[2])/(W[0]/W[1])  \n",
    "        intercept = -W[0]/W[2]\n",
    "\n",
    "        y = (slope*i) + intercept\n",
    "        plt.plot(i, y,'ko')\n",
    "    \n",
    "    plt.scatter(X[:,0], X[:,1], c=Y)\n",
    "    #print(W)\n",
    "    #print(X1)\n",
    "    #print(Y1)\n",
    "    #plt.plot(X1, Y1)\n",
    "    plt.show()"
   ]
  },
  {
   "cell_type": "code",
   "execution_count": 728,
   "metadata": {},
   "outputs": [
    {
     "data": {
      "image/png": "[encoded data removed]",
      "text/plain": [
       "<Figure size 1440x720 with 1 Axes>"
      ]
     },
     "metadata": {
      "needs_background": "light"
     },
     "output_type": "display_data"
    }
   ],
   "source": [
    "plot_data_with_decision_line(X_np, Y_np, W)"
   ]
  },
  {
   "cell_type": "markdown",
   "metadata": {},
   "source": [
    "# 2.2 (Optional) Application to multi-label classification"
   ]
  },
  {
   "cell_type": "code",
   "execution_count": 622,
   "metadata": {},
   "outputs": [],
   "source": [
    "# the 3 class of the 3 binary classification\n",
    "Y_One_Vs_all_class_Iris_setosa = list()\n",
    "Y_One_Vs_all_class_Iris_versicolor = list()\n",
    "Y_One_Vs_all_class_Iris_virginica = list()\n",
    "\n",
    "# we build the 3 class\n",
    "for i in range(iris_data.shape[0]):\n",
    "    if(iris_data[\"Class\"].iloc[i] == \"Iris-setosa\"):\n",
    "        Y_One_Vs_all_class_Iris_setosa.append(1)\n",
    "        Y_One_Vs_all_class_Iris_versicolor.append(0)\n",
    "        Y_One_Vs_all_class_Iris_virginica.append(0)\n",
    "        continue\n",
    "    if(iris_data[\"Class\"].iloc[i] == \"Iris-versicolor\"):\n",
    "        Y_One_Vs_all_class_Iris_setosa.append(0)\n",
    "        Y_One_Vs_all_class_Iris_versicolor.append(1)\n",
    "        Y_One_Vs_all_class_Iris_virginica.append(0)\n",
    "        continue\n",
    "    if(iris_data[\"Class\"].iloc[i] == \"Iris-virginica\"):\n",
    "        Y_One_Vs_all_class_Iris_setosa.append(0)\n",
    "        Y_One_Vs_all_class_Iris_versicolor.append(0)\n",
    "        Y_One_Vs_all_class_Iris_virginica.append(1)\n",
    "        continue\n",
    "        \n",
    "# we transform the list in a numpy vector\n",
    "Y_One_Vs_all_class_Iris_setosa = np.array(Y_One_Vs_all_class_Iris_setosa)\n",
    "Y_One_Vs_all_class_Iris_versicolor = np.array(Y_One_Vs_all_class_Iris_versicolor)\n",
    "Y_One_Vs_all_class_Iris_virginica = np.array(Y_One_Vs_all_class_Iris_virginica)\n",
    "\n",
    "# the array of patter\n",
    "X = iris_data.drop(['Class'], axis=1).values"
   ]
  },
  {
   "cell_type": "code",
   "execution_count": 623,
   "metadata": {},
   "outputs": [],
   "source": [
    "# weight of different class\n",
    "W_class_Iris_setosa = np.zeros(5, dtype=int)\n",
    "W_class_Iris_versicolor = np.zeros(5, dtype=int)\n",
    "W_class_Iris_virginica = np.zeros(5, dtype=int)\n"
   ]
  },
  {
   "cell_type": "code",
   "execution_count": 630,
   "metadata": {},
   "outputs": [],
   "source": [
    "def build_different_label(datafram):\n",
    "    \"\"\"this function take a datafram and build different label and array for training\"\"\"\n",
    "    \n",
    "    # the 3 class of the 3 binary classification\n",
    "    Y_One_Vs_all_class_Iris_setosa = list()\n",
    "    Y_One_Vs_all_class_Iris_versicolor = list()\n",
    "    Y_One_Vs_all_class_Iris_virginica = list()\n",
    "\n",
    "    # we build the 3 class\n",
    "    for i in range(datafram.shape[0]):\n",
    "        if(datafram[\"Class\"].iloc[i] == \"Iris-setosa\"):\n",
    "            Y_One_Vs_all_class_Iris_setosa.append(1)\n",
    "            Y_One_Vs_all_class_Iris_versicolor.append(0)\n",
    "            Y_One_Vs_all_class_Iris_virginica.append(0)\n",
    "            continue\n",
    "        if(datafram[\"Class\"].iloc[i] == \"Iris-versicolor\"):\n",
    "            Y_One_Vs_all_class_Iris_setosa.append(0)\n",
    "            Y_One_Vs_all_class_Iris_versicolor.append(1)\n",
    "            Y_One_Vs_all_class_Iris_virginica.append(0)\n",
    "            continue\n",
    "        if(datafram[\"Class\"].iloc[i] == \"Iris-virginica\"):\n",
    "            Y_One_Vs_all_class_Iris_setosa.append(0)\n",
    "            Y_One_Vs_all_class_Iris_versicolor.append(0)\n",
    "            Y_One_Vs_all_class_Iris_virginica.append(1)\n",
    "            continue\n",
    "        \n",
    "    # we transform the list in a numpy vector\n",
    "    Y_One_Vs_all_class_Iris_setosa = np.array(Y_One_Vs_all_class_Iris_setosa)\n",
    "    Y_One_Vs_all_class_Iris_versicolor = np.array(Y_One_Vs_all_class_Iris_versicolor)\n",
    "    Y_One_Vs_all_class_Iris_virginica = np.array(Y_One_Vs_all_class_Iris_virginica)\n",
    "\n",
    "    # the array of patter\n",
    "    X = datafram.drop(['Class'], axis=1).values\n",
    "    \n",
    "    return X, Y_One_Vs_all_class_Iris_setosa, Y_One_Vs_all_class_Iris_versicolor, Y_One_Vs_all_class_Iris_virginica\n",
    "\n",
    "\n",
    "\n",
    "\n",
    "def initialize_weight(N):\n",
    "    \"\"\"This function buil the weight we will use for training\"\"\"\n",
    "    \n",
    "    # weight of different class\n",
    "    W_class_Iris_setosa = np.zeros(N, dtype=int)\n",
    "    W_class_Iris_versicolor = np.zeros(N, dtype=int)\n",
    "    W_class_Iris_virginica = np.zeros(N, dtype=int)\n",
    "\n",
    "    return W_class_Iris_setosa, W_class_Iris_versicolor, W_class_Iris_virginica\n",
    "\n",
    "\n",
    "\n",
    "\n",
    "def training_one_vs_all(X, Y_One_Vs_all_class_Iris_setosa, Y_One_Vs_all_class_Iris_versicolor, Y_One_Vs_all_class_Iris_virginica, W_class_Iris_setosa, W_class_Iris_versicolor, W_class_Iris_virginica, learningRate):\n",
    "    \"\"\"This function train the one vs all model\"\"\"\n",
    "    \n",
    "    W_class_Iris_setosa, lossTraining = training(X, Y_One_Vs_all_class_Iris_setosa, W_class_Iris_setosa, learningRate)\n",
    "    W_class_Iris_versicolor, lossTraining = training(X, Y_One_Vs_all_class_Iris_versicolor, W_class_Iris_versicolor, learningRate)\n",
    "    W_class_Iris_virginica, lossTraining = training(X, Y_One_Vs_all_class_Iris_virginica, W_class_Iris_virginica, learningRate)\n",
    "    \n",
    "    return W_class_Iris_setosa, W_class_Iris_versicolor, W_class_Iris_virginica\n",
    "\n",
    "\n",
    "\n",
    "def testing_test(X, W):\n",
    "    \"\"\"This function is used to predic a value the perceptron\"\"\"\n",
    "    \n",
    "    y_pred = list()\n",
    "    X_training = add_the_biais_column(X)\n",
    "    for i in range(X_training.shape[0]):\n",
    "        # we compute the prediction based on X and the weights W\n",
    "        y_pred.append(prediction(X_training[i], W))\n",
    "        \n",
    "    return y_pred\n",
    "\n",
    "\n",
    "\n",
    "def testing_one_vs_all(X, W_class_Iris_setosa, W_class_Iris_versicolor, W_class_Iris_virginica):\n",
    "    \"\"\"We use this function to predict a furture label\"\"\"\n",
    "    \n",
    "    y_pred_one_vs_all = list()\n",
    "    \n",
    "    Y_class_Iris_setosa = testing_test(X, W_class_Iris_setosa)\n",
    "    Y_class_Iris_versicolor = testing_test(X, W_class_Iris_versicolor)\n",
    "    Y_class_Iris_virginica = testing_test(X, W_class_Iris_virginica)\n",
    "    \n",
    "    for i in range(X.shape[0]):\n",
    "        if(Y_class_Iris_setosa[i] == 1):\n",
    "            y_pred_one_vs_all.append(np.array([1,0,0]))\n",
    "            continue\n",
    "        if(Y_class_Iris_versicolor[i] == 1):\n",
    "            y_pred_one_vs_all.append(np.array([0,1,0]))\n",
    "            continue\n",
    "        if(Y_class_Iris_virginica[i] == 1):\n",
    "            y_pred_one_vs_all.append(np.array([0,0,1]))\n",
    "            continue\n",
    "            \n",
    "    return y_pred_one_vs_all\n"
   ]
  },
  {
   "cell_type": "code",
   "execution_count": 631,
   "metadata": {},
   "outputs": [
    {
     "name": "stdout",
     "output_type": "stream",
     "text": [
      "iris_data_training size =  (115, 5)\n",
      "iris_data_testing size  =  (35, 5)\n"
     ]
    }
   ],
   "source": [
    "# split the datafram iris two part : the training data size 80% and the testing data size 20%\n",
    "msk = np.random.rand(len(iris_data)) < 0.8\n",
    "\n",
    "iris_data_training = iris_data[msk]\n",
    "iris_data_testing = iris_data[~msk]\n",
    "\n",
    "print(\"iris_data_training size = \",iris_data_training.shape)\n",
    "print(\"iris_data_testing size  = \",iris_data_testing.shape)\n"
   ]
  },
  {
   "cell_type": "code",
   "execution_count": 632,
   "metadata": {},
   "outputs": [],
   "source": [
    "# the learning rate\n",
    "learningRate = 1\n",
    "\n",
    "# we build the label for traing\n",
    "X, Y_One_Vs_all_class_Iris_setosa, Y_One_Vs_all_class_Iris_versicolor, Y_One_Vs_all_class_Iris_virginica = build_different_label(iris_data_training)\n",
    "\n",
    "# we initialize the weight\n",
    "W_class_Iris_setosa, W_class_Iris_versicolor, W_class_Iris_virginica = initialize_weight(5)\n",
    "\n",
    "# Training the model\n",
    "W_class_Iris_setosa, W_class_Iris_versicolor, W_class_Iris_virginica = training_one_vs_all(X, Y_One_Vs_all_class_Iris_setosa, Y_One_Vs_all_class_Iris_versicolor, Y_One_Vs_all_class_Iris_virginica, W_class_Iris_setosa, W_class_Iris_versicolor, W_class_Iris_virginica, learningRate)"
   ]
  },
  {
   "cell_type": "code",
   "execution_count": 633,
   "metadata": {},
   "outputs": [],
   "source": [
    "#we build the label for testing\n",
    "X_test, Y_One_Vs_all_class_Iris_setosa_test, Y_One_Vs_all_class_Iris_versicolor_test, Y_One_Vs_all_class_Iris_virginica_test = build_different_label(iris_data_testing)\n",
    "\n",
    "# predict value\n",
    "Y_One_Vs_all_class_Iris_test_predict = testing_one_vs_all(X_test, W_class_Iris_setosa, W_class_Iris_versicolor, W_class_Iris_virginica)"
   ]
  },
  {
   "cell_type": "code",
   "execution_count": 634,
   "metadata": {},
   "outputs": [
    {
     "name": "stdout",
     "output_type": "stream",
     "text": [
      "The accuracy is ==  0.6857142857142857\n"
     ]
    }
   ],
   "source": [
    "accuraccy = 0\n",
    "# compute the accuracy\n",
    "for i in range(len(X_test)):\n",
    "    if(Y_One_Vs_all_class_Iris_setosa_test[i] == Y_One_Vs_all_class_Iris_test_predict[i][0]):\n",
    "        if(Y_One_Vs_all_class_Iris_versicolor_test[i] == Y_One_Vs_all_class_Iris_test_predict[i][1]):\n",
    "            if(Y_One_Vs_all_class_Iris_virginica_test[i] == Y_One_Vs_all_class_Iris_test_predict[i][2]):\n",
    "                accuraccy+=1\n",
    "                \n",
    "accuraccy = accuraccy / X_test.shape[0]\n",
    "\n",
    "print(\"The accuracy is == \",accuraccy)"
   ]
  }
 ],
 "metadata": {
  "kernelspec": {
   "display_name": "Python 3",
   "language": "python",
   "name": "python3"
  },
  "language_info": {
   "codemirror_mode": {
    "name": "ipython",
    "version": 3
   },
   "file_extension": ".py",
   "mimetype": "text/x-python",
   "name": "python",
   "nbconvert_exporter": "python",
   "pygments_lexer": "ipython3",
   "version": "3.6.8"
  }
 },
 "nbformat": 4,
 "nbformat_minor": 4
}
