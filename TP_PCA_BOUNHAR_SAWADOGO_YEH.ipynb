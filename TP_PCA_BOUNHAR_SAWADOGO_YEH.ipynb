{
 "cells": [
  {
   "cell_type": "markdown",
   "metadata": {},
   "source": [
    "# <center>  Principal Component Analysis and Boosting - 04/11/2020 </center>#\n",
    "\n",
    "* <span style=\"color:red\">Cours</span>            : MICAS911-Introduction-To-Statistical-Learning\n",
    "* <span style=\"color:red\">Auteur</span>           : Bounhar Abdelaziz\n",
    "* <span style=\"color:red\">Auteur</span>           : Yu Yeh\n",
    "* <span style=\"color:red\">Auteur</span>           : Panongbene Jean Mohamed Sawadogo\n",
    "\n",
    "# <center> <span style=\"color:red\"><font size=\"+3\"> Assignment Principal Component Analysis and Boosting  </font></span> </center> #"
   ]
  },
  {
   "cell_type": "markdown",
   "metadata": {},
   "source": [
    "# Exercice 2"
   ]
  },
  {
   "cell_type": "markdown",
   "metadata": {},
   "source": [
    "AdaBoost algorithm for a two-class classification problem. The algorithm sequentially applies a weak classification to modified versions of the data. By increasing the weights of the missclassified observations, each weak learner focuses on the error of the previous one. The predictions are aggregated through a weighted majority vote."
   ]
  },
  {
   "cell_type": "code",
   "execution_count": 140,
   "metadata": {},
   "outputs": [],
   "source": [
    "import pandas as pd\n",
    "import numpy as np\n",
    "from sklearn.tree import DecisionTreeClassifier\n",
    "from sklearn.model_selection import train_test_split\n",
    "from sklearn.datasets import make_hastie_10_2\n",
    "import matplotlib.pyplot as plt\n",
    "from tqdm import tqdm"
   ]
  },
  {
   "cell_type": "code",
   "execution_count": 141,
   "metadata": {},
   "outputs": [
    {
     "name": "stdout",
     "output_type": "stream",
     "text": [
      "The autoreload extension is already loaded. To reload it, use:\n",
      "  %reload_ext autoreload\n"
     ]
    },
    {
     "data": {
      "text/html": [
       "\n",
       "<style>\n",
       ".output_png {\n",
       "    display: table-cell;\n",
       "    text-align: center;\n",
       "    vertical-align: middle;\n",
       "}\n",
       "</style>\n"
      ],
      "text/plain": [
       "<IPython.core.display.HTML object>"
      ]
     },
     "execution_count": 141,
     "metadata": {},
     "output_type": "execute_result"
    }
   ],
   "source": [
    "# Useful starting lines\n",
    "%matplotlib inline\n",
    "\n",
    "%load_ext autoreload\n",
    "%autoreload 2\n",
    "\n",
    "from IPython.core.display import HTML\n",
    "HTML(\"\"\"\n",
    "<style>\n",
    ".output_png {\n",
    "    display: table-cell;\n",
    "    text-align: center;\n",
    "    vertical-align: middle;\n",
    "}\n",
    "</style>\n",
    "\"\"\")"
   ]
  },
  {
   "cell_type": "markdown",
   "metadata": {},
   "source": [
    "# TO-DO : Adaboost"
   ]
  },
  {
   "cell_type": "markdown",
   "metadata": {},
   "source": [
    "## Helpers Functions"
   ]
  },
  {
   "cell_type": "code",
   "execution_count": 142,
   "metadata": {},
   "outputs": [],
   "source": [
    "def plot_error_rate(er_train, er_test):\n",
    "    df_error = pd.DataFrame([er_train, er_test]).T\n",
    "    df_error.columns = ['Training', 'Test']\n",
    "    plot1 = df_error.plot(linewidth = 3, figsize = (8,6),\n",
    "            color = ['lightblue', 'darkblue'], grid = True)\n",
    "    plot1.set_xlabel('Number of iterations', fontsize = 12)\n",
    "    plot1.set_xticklabels(range(0,450,50))\n",
    "    plot1.set_ylabel('Error rate', fontsize = 12)\n",
    "    plot1.set_title('Error rate vs number of iterations', fontsize = 16)\n",
    "    plt.axhline(y=er_test[0], linewidth=1, color = 'red', ls = 'dashed')\n",
    "    plt.savefig('adaboost.pdf',format='pdf')"
   ]
  },
  {
   "cell_type": "code",
   "execution_count": 143,
   "metadata": {},
   "outputs": [],
   "source": [
    "def get_error_rate(pred, Y):\n",
    "    return sum(pred != Y) / float(len(Y))"
   ]
  },
  {
   "cell_type": "code",
   "execution_count": 144,
   "metadata": {},
   "outputs": [],
   "source": [
    "def print_error_rate(err):\n",
    "    print('Error rate: Training: %.4f - Test: %.4f'.format(err))"
   ]
  },
  {
   "cell_type": "markdown",
   "metadata": {},
   "source": [
    "## Weak Learners"
   ]
  },
  {
   "cell_type": "code",
   "execution_count": 145,
   "metadata": {},
   "outputs": [],
   "source": [
    "def generic_clf(Y_train, X_train, Y_test, X_test, clf):\n",
    "    clf.fit(X_train,Y_train)\n",
    "    pred_train = clf.predict(X_train)\n",
    "    pred_test = clf.predict(X_test)\n",
    "    return get_error_rate(pred_train, Y_train),get_error_rate(pred_test, Y_test)"
   ]
  },
  {
   "cell_type": "markdown",
   "metadata": {},
   "source": [
    "# Datasets :\n",
    "##### Generates data for binary classification used in Hastie et al. 2009, Example 10.2."
   ]
  },
  {
   "cell_type": "code",
   "execution_count": 231,
   "metadata": {},
   "outputs": [],
   "source": [
    "# Read data\n",
    "x, y = make_hastie_10_2()\n",
    "df = pd.DataFrame(x)\n",
    "df['Y'] = y\n",
    "\n",
    "# Split into training and test set\n",
    "train, test = train_test_split(df, test_size = 0.2)\n",
    "X_train, Y_train = train.iloc[:,:-1], train.iloc[:,-1]\n",
    "X_test, Y_test = test.iloc[:,:-1], test.iloc[:,-1]"
   ]
  },
  {
   "cell_type": "code",
   "execution_count": 232,
   "metadata": {},
   "outputs": [
    {
     "name": "stdout",
     "output_type": "stream",
     "text": [
      "Single Weak Learner Achieves \n",
      " Train Error of 0.46291666666666664 \n",
      " Test Error of 0.46791666666666665\n"
     ]
    }
   ],
   "source": [
    "# Fit a simple decision tree first\n",
    "clf_tree = DecisionTreeClassifier(max_depth = 1, random_state = 1)\n",
    "er_tree = generic_clf(Y_train, X_train, Y_test, X_test, clf_tree)\n",
    "print('Single Weak Learner Achieves \\n Train Error of {} \\n Test Error of {}'.format(er_tree[0],er_tree[1]))"
   ]
  },
  {
   "cell_type": "markdown",
   "metadata": {},
   "source": [
    "# Implement an adaboost classifier"
   ]
  },
  {
   "cell_type": "code",
   "execution_count": 233,
   "metadata": {},
   "outputs": [],
   "source": [
    "p1 = np.array([1,0,1,1,1,0,0])\n",
    "p2 = np.array([0,1,0,1,1,0,1])\n",
    "\n",
    "x = np.sum(p1 != p2)\n",
    "x"
   ]
  },
  {
   "cell_type": "code",
   "execution_count": 278,
   "metadata": {},
   "outputs": [],
   "source": [
    "def adaboost_clf(Y_train, X_train, Y_test, X_test, M, clf):\n",
    "    n_train, n_test = len(X_train), len(X_test)\n",
    "    # Initialize weights\n",
    "    w = np.ones(n_train) / n_train # uniform distribution over the weights\n",
    "    pred_train, pred_test = [np.zeros(n_train), np.zeros(n_test)]\n",
    "    \n",
    "    for i in range(M):\n",
    "        # Fit a classifier with the specific weights\n",
    "        clf.fit(X_train, Y_train, sample_weight = w)\n",
    "        pred_train_i = clf.predict(X_train)\n",
    "        pred_test_i = clf.predict(X_test)\n",
    "        \n",
    "        y = Y_train.to_numpy()\n",
    "\n",
    "        # Indicator function\n",
    "        miss = np.sum(pred_test_i != Y_test)\n",
    "        err_m = 0\n",
    "        \n",
    "        # Error\n",
    "        for j in range(len(pred_train_i)):\n",
    "            missed = 0\n",
    "            if pred_train_i[j] != y[j] :\n",
    "                missed = 1 \n",
    "            err_m = err_m + w[j]*missed\n",
    "        err_m = err_m/np.sum(w)\n",
    "        \n",
    "        \n",
    "        # Equivalent with 1/-1 to update weights\n",
    "        miss2 = 0\n",
    "        \n",
    "        # Alpha\n",
    "        if np.absolute(np.log((1-err_m)/err_m)) < np.finfo(float).eps :\n",
    "            alpha_m = np.finfo(float).eps\n",
    "        else :\n",
    "            alpha_m = np.log((1-err_m)/err_m)\n",
    "            \n",
    "        # New weights\n",
    "        for j in range(len(w)):\n",
    "            missed = 0\n",
    "            if pred_train_i[j] != y[j] :\n",
    "                missed = 1 \n",
    "            w[j] = w[j]*np.exp(alpha_m*missed)\n",
    "        \n",
    "        # Add to prediction\n",
    "        pred_train = [sum(x) for x in zip(pred_train, \n",
    "                                          [x * alpha_m for x in pred_train_i])]\n",
    "        pred_test = [sum(x) for x in zip(pred_test, \n",
    "                                         [x * alpha_m for x in pred_test_i])]\n",
    "    \n",
    "    pred_train, pred_test = np.sign(pred_train), np.sign(pred_test)\n",
    "    # Return error rate in train and test set\n",
    "    #print(w)\n",
    "    return get_error_rate(pred_train, Y_train), get_error_rate(pred_test, Y_test)"
   ]
  },
  {
   "cell_type": "markdown",
   "metadata": {},
   "source": [
    "# Fit Adaboost classifier using a decision tree as base estimator"
   ]
  },
  {
   "cell_type": "code",
   "execution_count": 293,
   "metadata": {},
   "outputs": [
    {
     "data": {
      "text/html": [
       "<div>\n",
       "<style scoped>\n",
       "    .dataframe tbody tr th:only-of-type {\n",
       "        vertical-align: middle;\n",
       "    }\n",
       "\n",
       "    .dataframe tbody tr th {\n",
       "        vertical-align: top;\n",
       "    }\n",
       "\n",
       "    .dataframe thead th {\n",
       "        text-align: right;\n",
       "    }\n",
       "</style>\n",
       "<table border=\"1\" class=\"dataframe\">\n",
       "  <thead>\n",
       "    <tr style=\"text-align: right;\">\n",
       "      <th></th>\n",
       "      <th>0</th>\n",
       "      <th>1</th>\n",
       "      <th>2</th>\n",
       "      <th>3</th>\n",
       "      <th>4</th>\n",
       "      <th>5</th>\n",
       "      <th>6</th>\n",
       "      <th>7</th>\n",
       "      <th>8</th>\n",
       "      <th>9</th>\n",
       "    </tr>\n",
       "  </thead>\n",
       "  <tbody>\n",
       "    <tr>\n",
       "      <td>count</td>\n",
       "      <td>9600.000000</td>\n",
       "      <td>9600.000000</td>\n",
       "      <td>9600.000000</td>\n",
       "      <td>9600.000000</td>\n",
       "      <td>9600.000000</td>\n",
       "      <td>9600.000000</td>\n",
       "      <td>9600.000000</td>\n",
       "      <td>9600.000000</td>\n",
       "      <td>9600.000000</td>\n",
       "      <td>9600.000000</td>\n",
       "    </tr>\n",
       "    <tr>\n",
       "      <td>mean</td>\n",
       "      <td>0.004301</td>\n",
       "      <td>-0.002104</td>\n",
       "      <td>0.014658</td>\n",
       "      <td>0.012982</td>\n",
       "      <td>-0.001392</td>\n",
       "      <td>-0.002157</td>\n",
       "      <td>-0.005292</td>\n",
       "      <td>0.003780</td>\n",
       "      <td>0.006280</td>\n",
       "      <td>0.013691</td>\n",
       "    </tr>\n",
       "    <tr>\n",
       "      <td>std</td>\n",
       "      <td>1.009721</td>\n",
       "      <td>0.995601</td>\n",
       "      <td>1.007999</td>\n",
       "      <td>1.002758</td>\n",
       "      <td>0.997878</td>\n",
       "      <td>1.002542</td>\n",
       "      <td>1.005970</td>\n",
       "      <td>1.006299</td>\n",
       "      <td>1.003357</td>\n",
       "      <td>1.004431</td>\n",
       "    </tr>\n",
       "    <tr>\n",
       "      <td>min</td>\n",
       "      <td>-4.231660</td>\n",
       "      <td>-3.964739</td>\n",
       "      <td>-3.803163</td>\n",
       "      <td>-3.793160</td>\n",
       "      <td>-3.405549</td>\n",
       "      <td>-4.126234</td>\n",
       "      <td>-3.840847</td>\n",
       "      <td>-4.157044</td>\n",
       "      <td>-4.130087</td>\n",
       "      <td>-3.866375</td>\n",
       "    </tr>\n",
       "    <tr>\n",
       "      <td>25%</td>\n",
       "      <td>-0.687540</td>\n",
       "      <td>-0.663764</td>\n",
       "      <td>-0.667213</td>\n",
       "      <td>-0.662356</td>\n",
       "      <td>-0.673883</td>\n",
       "      <td>-0.684058</td>\n",
       "      <td>-0.686775</td>\n",
       "      <td>-0.674303</td>\n",
       "      <td>-0.658946</td>\n",
       "      <td>-0.657534</td>\n",
       "    </tr>\n",
       "    <tr>\n",
       "      <td>50%</td>\n",
       "      <td>0.014101</td>\n",
       "      <td>-0.000042</td>\n",
       "      <td>0.022523</td>\n",
       "      <td>0.014025</td>\n",
       "      <td>-0.005444</td>\n",
       "      <td>-0.008149</td>\n",
       "      <td>-0.011431</td>\n",
       "      <td>-0.005526</td>\n",
       "      <td>-0.001126</td>\n",
       "      <td>0.011206</td>\n",
       "    </tr>\n",
       "    <tr>\n",
       "      <td>75%</td>\n",
       "      <td>0.686070</td>\n",
       "      <td>0.680188</td>\n",
       "      <td>0.696581</td>\n",
       "      <td>0.701613</td>\n",
       "      <td>0.667247</td>\n",
       "      <td>0.669876</td>\n",
       "      <td>0.676194</td>\n",
       "      <td>0.695969</td>\n",
       "      <td>0.679555</td>\n",
       "      <td>0.689611</td>\n",
       "    </tr>\n",
       "    <tr>\n",
       "      <td>max</td>\n",
       "      <td>3.695534</td>\n",
       "      <td>4.126305</td>\n",
       "      <td>4.038874</td>\n",
       "      <td>4.052596</td>\n",
       "      <td>3.773010</td>\n",
       "      <td>4.230645</td>\n",
       "      <td>3.895823</td>\n",
       "      <td>3.464935</td>\n",
       "      <td>3.872593</td>\n",
       "      <td>3.468881</td>\n",
       "    </tr>\n",
       "  </tbody>\n",
       "</table>\n",
       "</div>"
      ],
      "text/plain": [
       "                 0            1            2            3            4  \\\n",
       "count  9600.000000  9600.000000  9600.000000  9600.000000  9600.000000   \n",
       "mean      0.004301    -0.002104     0.014658     0.012982    -0.001392   \n",
       "std       1.009721     0.995601     1.007999     1.002758     0.997878   \n",
       "min      -4.231660    -3.964739    -3.803163    -3.793160    -3.405549   \n",
       "25%      -0.687540    -0.663764    -0.667213    -0.662356    -0.673883   \n",
       "50%       0.014101    -0.000042     0.022523     0.014025    -0.005444   \n",
       "75%       0.686070     0.680188     0.696581     0.701613     0.667247   \n",
       "max       3.695534     4.126305     4.038874     4.052596     3.773010   \n",
       "\n",
       "                 5            6            7            8            9  \n",
       "count  9600.000000  9600.000000  9600.000000  9600.000000  9600.000000  \n",
       "mean     -0.002157    -0.005292     0.003780     0.006280     0.013691  \n",
       "std       1.002542     1.005970     1.006299     1.003357     1.004431  \n",
       "min      -4.126234    -3.840847    -4.157044    -4.130087    -3.866375  \n",
       "25%      -0.684058    -0.686775    -0.674303    -0.658946    -0.657534  \n",
       "50%      -0.008149    -0.011431    -0.005526    -0.001126     0.011206  \n",
       "75%       0.669876     0.676194     0.695969     0.679555     0.689611  \n",
       "max       4.230645     3.895823     3.464935     3.872593     3.468881  "
      ]
     },
     "execution_count": 293,
     "metadata": {},
     "output_type": "execute_result"
    }
   ],
   "source": [
    "# let's see if the data is scaled\n",
    "X_train.describe()"
   ]
  },
  {
   "cell_type": "code",
   "execution_count": 279,
   "metadata": {},
   "outputs": [
    {
     "name": "stderr",
     "output_type": "stream",
     "text": [
      "\n",
      "\n",
      "  0%|                                                                                           | 0/39 [00:00<?, ?it/s]\n",
      "\n",
      "  3%|██▏                                                                                | 1/39 [00:00<00:24,  1.54it/s]\n",
      "\n",
      "  5%|████▎                                                                              | 2/39 [00:01<00:31,  1.18it/s]\n",
      "\n",
      "  8%|██████▍                                                                            | 3/39 [00:03<00:41,  1.16s/it]\n",
      "\n",
      " 10%|████████▌                                                                          | 4/39 [00:06<00:55,  1.58s/it]\n",
      "\n",
      " 13%|██████████▋                                                                        | 5/39 [00:09<01:09,  2.04s/it]\n",
      "\n",
      " 15%|████████████▊                                                                      | 6/39 [00:13<01:25,  2.60s/it]\n",
      "\n",
      " 18%|██████████████▉                                                                    | 7/39 [00:17<01:39,  3.10s/it]\n",
      "\n",
      " 21%|█████████████████                                                                  | 8/39 [00:22<01:56,  3.76s/it]\n",
      "\n",
      " 23%|███████████████████▏                                                               | 9/39 [00:28<02:09,  4.30s/it]\n",
      "\n",
      " 26%|█████████████████████                                                             | 10/39 [00:34<02:22,  4.90s/it]\n",
      "\n",
      " 28%|███████████████████████▏                                                          | 11/39 [00:45<03:04,  6.58s/it]\n",
      "\n",
      " 31%|█████████████████████████▏                                                        | 12/39 [00:54<03:16,  7.28s/it]\n",
      "\n",
      " 33%|███████████████████████████▎                                                      | 13/39 [01:02<03:20,  7.71s/it]\n",
      "\n",
      " 36%|█████████████████████████████▍                                                    | 14/39 [01:13<03:33,  8.54s/it]\n",
      "\n",
      " 38%|███████████████████████████████▌                                                  | 15/39 [01:25<03:49,  9.55s/it]\n",
      "\n",
      " 41%|█████████████████████████████████▋                                                | 16/39 [01:37<03:58, 10.35s/it]\n",
      "\n",
      " 44%|███████████████████████████████████▋                                              | 17/39 [01:49<03:56, 10.75s/it]\n",
      "\n",
      " 46%|█████████████████████████████████████▊                                            | 18/39 [02:00<03:46, 10.79s/it]\n",
      "\n",
      " 49%|███████████████████████████████████████▉                                          | 19/39 [02:12<03:43, 11.18s/it]\n",
      "\n",
      " 51%|██████████████████████████████████████████                                        | 20/39 [02:24<03:38, 11.49s/it]\n",
      "\n",
      " 54%|████████████████████████████████████████████▏                                     | 21/39 [02:37<03:34, 11.94s/it]\n",
      "\n",
      " 56%|██████████████████████████████████████████████▎                                   | 22/39 [03:01<04:23, 15.52s/it]\n",
      "\n",
      " 59%|████████████████████████████████████████████████▎                                 | 23/39 [03:16<04:08, 15.55s/it]\n",
      "\n",
      " 62%|██████████████████████████████████████████████████▍                               | 24/39 [03:33<03:59, 16.00s/it]\n",
      "\n",
      " 64%|████████████████████████████████████████████████████▌                             | 25/39 [03:50<03:44, 16.02s/it]\n",
      "\n",
      " 67%|██████████████████████████████████████████████████████▋                           | 26/39 [04:07<03:31, 16.30s/it]\n",
      "\n",
      " 69%|████████████████████████████████████████████████████████▊                         | 27/39 [04:26<03:27, 17.32s/it]\n",
      "\n",
      " 72%|██████████████████████████████████████████████████████████▊                       | 28/39 [04:45<03:15, 17.76s/it]\n",
      "\n",
      " 74%|████████████████████████████████████████████████████████████▉                     | 29/39 [05:04<03:02, 18.25s/it]\n",
      "\n",
      " 77%|███████████████████████████████████████████████████████████████                   | 30/39 [05:28<02:59, 19.92s/it]\n",
      "\n",
      " 79%|█████████████████████████████████████████████████████████████████▏                | 31/39 [05:51<02:46, 20.86s/it]\n",
      "\n",
      " 82%|███████████████████████████████████████████████████████████████████▎              | 32/39 [06:14<02:29, 21.42s/it]\n",
      "\n",
      " 85%|█████████████████████████████████████████████████████████████████████▍            | 33/39 [06:34<02:06, 21.09s/it]\n",
      "\n",
      " 87%|███████████████████████████████████████████████████████████████████████▍          | 34/39 [07:00<01:52, 22.43s/it]\n",
      "\n",
      " 90%|█████████████████████████████████████████████████████████████████████████▌        | 35/39 [07:21<01:28, 22.17s/it]\n",
      "\n",
      " 92%|███████████████████████████████████████████████████████████████████████████▋      | 36/39 [07:48<01:10, 23.35s/it]\n",
      "\n",
      " 95%|█████████████████████████████████████████████████████████████████████████████▊    | 37/39 [08:12<00:47, 23.77s/it]\n",
      "\n",
      " 97%|███████████████████████████████████████████████████████████████████████████████▉  | 38/39 [08:36<00:23, 23.86s/it]\n",
      "\n",
      "100%|██████████████████████████████████████████████████████████████████████████████████| 39/39 [09:06<00:00, 14.00s/it]\n",
      "c:\\python36\\lib\\site-packages\\ipykernel_launcher.py:7: UserWarning: FixedFormatter should only be used together with FixedLocator\n",
      "  import sys\n"
     ]
    },
    {
     "data": {
      "image/png": "[encoded data removed]",
      "text/plain": [
       "<Figure size 576x432 with 1 Axes>"
      ]
     },
     "metadata": {
      "needs_background": "light"
     },
     "output_type": "display_data"
    }
   ],
   "source": [
    "# Test with different number of iterations\n",
    "er_train, er_test = [er_tree[0]], [er_tree[1]]\n",
    "x_range = range(10, 400, 10)\n",
    "\n",
    "for i in tqdm(x_range):\n",
    "    er_i = adaboost_clf(Y_train, X_train, Y_test, X_test, i, clf_tree)\n",
    "    er_train.append(er_i[0])\n",
    "    er_test.append(er_i[1])\n",
    "    \n",
    "# Compare error rate vs number of iterations\n",
    "plot_error_rate(er_train, er_test)"
   ]
  },
  {
   "cell_type": "markdown",
   "metadata": {},
   "source": [
    "### Comments :\n",
    "\n",
    "We can clearly see that over the iterations of the training phase, the classifier gets betters and better, untill it reaches a level of error rate =0.1 and stops from improving a lot. Actually, if we increase the number of iterations, after reaching a certain number of iteration, the classifier will be overfitting the training data. \n",
    "This treshold is caracterized by : nbrOfIteration >> VCdim(H).\n",
    "\n",
    "In the next experience, we will try to find this maximum number of Iteration for which we will be overfitting the training data."
   ]
  },
  {
   "cell_type": "code",
   "execution_count": 291,
   "metadata": {},
   "outputs": [
    {
     "name": "stderr",
     "output_type": "stream",
     "text": [
      "\n",
      "\n",
      "\n",
      "  0%|                                                                                           | 0/79 [00:00<?, ?it/s]\n",
      "\n",
      "\n",
      "  1%|█                                                                                  | 1/79 [00:00<00:44,  1.76it/s]\n",
      "\n",
      "\n",
      "  3%|██                                                                                 | 2/79 [00:01<01:02,  1.24it/s]\n",
      "\n",
      "\n",
      "  4%|███▏                                                                               | 3/79 [00:04<01:31,  1.21s/it]\n",
      "\n",
      "\n",
      "  5%|████▏                                                                              | 4/79 [00:07<02:15,  1.80s/it]\n",
      "\n",
      "\n",
      "  6%|█████▎                                                                             | 5/79 [00:12<03:23,  2.75s/it]\n",
      "\n",
      "\n",
      "  8%|██████▎                                                                            | 6/79 [00:20<05:21,  4.40s/it]\n",
      "\n",
      "\n",
      "  9%|███████▎                                                                           | 7/79 [00:25<05:27,  4.55s/it]\n",
      "\n",
      "\n",
      " 10%|████████▍                                                                          | 8/79 [00:30<05:28,  4.63s/it]\n",
      "\n",
      "\n",
      " 11%|█████████▍                                                                         | 9/79 [00:35<05:38,  4.84s/it]\n",
      "\n",
      "\n",
      " 13%|██████████▍                                                                       | 10/79 [00:41<06:03,  5.27s/it]\n",
      "\n",
      "\n",
      " 14%|███████████▍                                                                      | 11/79 [00:49<06:58,  6.15s/it]\n",
      "\n",
      "\n",
      " 15%|████████████▍                                                                     | 12/79 [00:58<07:41,  6.89s/it]\n",
      "\n",
      "\n",
      " 16%|█████████████▍                                                                    | 13/79 [01:07<08:11,  7.45s/it]\n",
      "\n",
      "\n",
      " 18%|██████████████▌                                                                   | 14/79 [01:16<08:42,  8.05s/it]\n",
      "\n",
      "\n",
      " 19%|███████████████▌                                                                  | 15/79 [01:27<09:24,  8.82s/it]\n",
      "\n",
      "\n",
      " 20%|████████████████▌                                                                 | 16/79 [01:38<09:52,  9.40s/it]\n",
      "\n",
      "\n",
      " 22%|█████████████████▋                                                                | 17/79 [01:52<11:13, 10.86s/it]\n",
      "\n",
      "\n",
      " 23%|██████████████████▋                                                               | 18/79 [02:03<11:00, 10.83s/it]\n",
      "\n",
      "\n",
      " 24%|███████████████████▋                                                              | 19/79 [02:14<10:50, 10.84s/it]\n",
      "\n",
      "\n",
      " 25%|████████████████████▊                                                             | 20/79 [02:25<10:52, 11.07s/it]\n",
      "\n",
      "\n",
      " 27%|█████████████████████▊                                                            | 21/79 [02:38<11:06, 11.50s/it]\n",
      "\n",
      "\n",
      " 28%|██████████████████████▊                                                           | 22/79 [02:52<11:42, 12.33s/it]\n",
      "\n",
      "\n",
      " 29%|███████████████████████▊                                                          | 23/79 [03:06<11:54, 12.76s/it]\n",
      "\n",
      "\n",
      " 30%|████████████████████████▉                                                         | 24/79 [03:20<12:08, 13.24s/it]\n",
      "\n",
      "\n",
      " 32%|█████████████████████████▉                                                        | 25/79 [03:35<12:26, 13.83s/it]\n",
      "\n",
      "\n",
      " 33%|██████████████████████████▉                                                       | 26/79 [03:52<13:05, 14.82s/it]\n",
      "\n",
      "\n",
      " 34%|████████████████████████████                                                      | 27/79 [04:09<13:24, 15.46s/it]\n",
      "\n",
      "\n",
      " 35%|█████████████████████████████                                                     | 28/79 [04:26<13:19, 15.68s/it]\n",
      "\n",
      "\n",
      " 37%|██████████████████████████████                                                    | 29/79 [04:45<13:54, 16.69s/it]\n",
      "\n",
      "\n",
      " 38%|███████████████████████████████▏                                                  | 30/79 [05:04<14:22, 17.60s/it]\n",
      "\n",
      "\n",
      " 39%|████████████████████████████████▏                                                 | 31/79 [05:22<14:09, 17.70s/it]\n",
      "\n",
      "\n",
      " 41%|█████████████████████████████████▏                                                | 32/79 [05:41<14:00, 17.88s/it]\n",
      "\n",
      "\n",
      " 42%|██████████████████████████████████▎                                               | 33/79 [05:59<13:54, 18.15s/it]\n",
      "\n",
      "\n",
      " 43%|███████████████████████████████████▎                                              | 34/79 [06:19<13:57, 18.62s/it]\n",
      "\n",
      "\n",
      " 44%|████████████████████████████████████▎                                             | 35/79 [06:40<14:04, 19.18s/it]\n",
      "\n",
      "\n",
      " 46%|█████████████████████████████████████▎                                            | 36/79 [07:00<14:01, 19.57s/it]\n",
      "\n",
      "\n",
      " 47%|██████████████████████████████████████▍                                           | 37/79 [07:21<14:02, 20.06s/it]\n",
      "\n",
      "\n",
      " 48%|███████████████████████████████████████▍                                          | 38/79 [07:43<14:02, 20.55s/it]\n",
      "\n",
      "\n",
      " 49%|████████████████████████████████████████▍                                         | 39/79 [08:05<14:02, 21.06s/it]\n",
      "\n",
      "\n",
      " 51%|█████████████████████████████████████████▌                                        | 40/79 [08:29<14:18, 22.01s/it]\n",
      "\n",
      "\n",
      " 52%|██████████████████████████████████████████▌                                       | 41/79 [08:53<14:13, 22.45s/it]\n",
      "\n",
      "\n",
      " 53%|███████████████████████████████████████████▌                                      | 42/79 [09:17<14:07, 22.91s/it]\n",
      "\n",
      "\n",
      " 54%|████████████████████████████████████████████▋                                     | 43/79 [09:42<14:07, 23.54s/it]\n",
      "\n",
      "\n",
      " 56%|█████████████████████████████████████████████▋                                    | 44/79 [10:07<13:57, 23.92s/it]\n",
      "\n",
      "\n",
      " 57%|██████████████████████████████████████████████▋                                   | 45/79 [10:32<13:49, 24.40s/it]\n",
      "\n",
      "\n",
      " 58%|███████████████████████████████████████████████▋                                  | 46/79 [10:58<13:43, 24.97s/it]\n",
      "\n",
      "\n",
      " 59%|████████████████████████████████████████████████▊                                 | 47/79 [11:25<13:37, 25.55s/it]\n",
      "\n",
      "\n",
      " 61%|█████████████████████████████████████████████████▊                                | 48/79 [11:53<13:28, 26.07s/it]\n",
      "\n",
      "\n",
      " 62%|██████████████████████████████████████████████████▊                               | 49/79 [12:21<13:18, 26.61s/it]\n",
      "\n",
      "\n",
      " 63%|███████████████████████████████████████████████████▉                              | 50/79 [12:50<13:13, 27.36s/it]\n",
      "\n",
      "\n",
      " 65%|████████████████████████████████████████████████████▉                             | 51/79 [13:19<13:00, 27.87s/it]\n",
      "\n",
      "\n",
      " 66%|█████████████████████████████████████████████████████▉                            | 52/79 [13:49<12:53, 28.65s/it]\n",
      "\n",
      "\n",
      " 67%|███████████████████████████████████████████████████████                           | 53/79 [14:20<12:44, 29.42s/it]\n",
      "\n",
      "\n",
      " 68%|████████████████████████████████████████████████████████                          | 54/79 [15:15<15:27, 37.11s/it]\n",
      "\n",
      "\n",
      " 70%|█████████████████████████████████████████████████████████                         | 55/79 [15:52<14:44, 36.87s/it]\n",
      "\n",
      "\n",
      " 71%|██████████████████████████████████████████████████████████▏                       | 56/79 [16:38<15:15, 39.80s/it]\n",
      "\n",
      "\n",
      " 72%|███████████████████████████████████████████████████████████▏                      | 57/79 [17:19<14:38, 39.92s/it]\n",
      "\n",
      "\n",
      " 73%|████████████████████████████████████████████████████████████▏                     | 58/79 [17:55<13:36, 38.90s/it]\n",
      "\n",
      "\n",
      " 75%|█████████████████████████████████████████████████████████████▏                    | 59/79 [18:29<12:25, 37.25s/it]\n",
      "\n",
      "\n",
      " 76%|██████████████████████████████████████████████████████████████▎                   | 60/79 [19:07<11:54, 37.63s/it]\n",
      "\n",
      "\n",
      " 77%|███████████████████████████████████████████████████████████████▎                  | 61/79 [19:42<11:02, 36.79s/it]\n",
      "\n",
      "\n",
      " 78%|████████████████████████████████████████████████████████████████▎                 | 62/79 [20:17<10:16, 36.28s/it]\n",
      "\n",
      "\n",
      " 80%|█████████████████████████████████████████████████████████████████▍                | 63/79 [20:55<09:51, 36.94s/it]\n",
      "\n",
      "\n",
      " 81%|██████████████████████████████████████████████████████████████████▍               | 64/79 [21:32<09:11, 36.76s/it]\n",
      "\n",
      "\n",
      " 82%|███████████████████████████████████████████████████████████████████▍              | 65/79 [22:11<08:43, 37.36s/it]\n",
      "\n",
      "\n",
      " 84%|████████████████████████████████████████████████████████████████████▌             | 66/79 [22:49<08:08, 37.56s/it]\n",
      "\n",
      "\n"
     ]
    },
    {
     "name": "stderr",
     "output_type": "stream",
     "text": [
      " 85%|█████████████████████████████████████████████████████████████████████▌            | 67/79 [23:28<07:37, 38.11s/it]\n",
      "\n",
      "\n",
      " 86%|██████████████████████████████████████████████████████████████████████▌           | 68/79 [24:08<07:06, 38.74s/it]\n",
      "\n",
      "\n",
      " 87%|███████████████████████████████████████████████████████████████████████▌          | 69/79 [24:52<06:41, 40.20s/it]\n",
      "\n",
      "\n",
      " 89%|████████████████████████████████████████████████████████████████████████▋         | 70/79 [25:37<06:15, 41.72s/it]\n",
      "\n",
      "\n",
      " 90%|█████████████████████████████████████████████████████████████████████████▋        | 71/79 [26:23<05:43, 42.89s/it]\n",
      "\n",
      "\n",
      " 91%|██████████████████████████████████████████████████████████████████████████▋       | 72/79 [27:10<05:09, 44.24s/it]\n",
      "\n",
      "\n",
      " 92%|███████████████████████████████████████████████████████████████████████████▊      | 73/79 [28:00<04:36, 46.10s/it]\n",
      "\n",
      "\n",
      " 94%|████████████████████████████████████████████████████████████████████████████▊     | 74/79 [28:56<04:04, 48.92s/it]\n",
      "\n",
      "\n",
      " 95%|█████████████████████████████████████████████████████████████████████████████▊    | 75/79 [29:40<03:09, 47.50s/it]\n",
      "\n",
      "\n",
      " 96%|██████████████████████████████████████████████████████████████████████████████▉   | 76/79 [30:27<02:21, 47.18s/it]\n",
      "\n",
      "\n",
      " 97%|███████████████████████████████████████████████████████████████████████████████▉  | 77/79 [31:16<01:35, 47.72s/it]\n",
      "\n",
      "\n",
      " 99%|████████████████████████████████████████████████████████████████████████████████▉ | 78/79 [32:10<00:49, 49.71s/it]\n",
      "\n",
      "\n",
      "100%|██████████████████████████████████████████████████████████████████████████████████| 79/79 [33:26<00:00, 25.39s/it]\n",
      "c:\\python36\\lib\\site-packages\\ipykernel_launcher.py:7: UserWarning: FixedFormatter should only be used together with FixedLocator\n",
      "  import sys\n"
     ]
    },
    {
     "data": {
      "image/png": "[encoded data removed]",
      "text/plain": [
       "<Figure size 576x432 with 1 Axes>"
      ]
     },
     "metadata": {
      "needs_background": "light"
     },
     "output_type": "display_data"
    }
   ],
   "source": [
    "# Test with different number of iterations\n",
    "er_train, er_test = [er_tree[0]], [er_tree[1]]\n",
    "x_range = range(10, 800, 10)\n",
    "\n",
    "for i in tqdm(x_range):\n",
    "    er_i = adaboost_clf(Y_train, X_train, Y_test, X_test, i, clf_tree)\n",
    "    er_train.append(er_i[0])\n",
    "    er_test.append(er_i[1])\n",
    "    \n",
    "# Compare error rate vs number of iterations\n",
    "plot_error_rate(er_train, er_test)"
   ]
  },
  {
   "cell_type": "code",
   "execution_count": 294,
   "metadata": {},
   "outputs": [
    {
     "name": "stderr",
     "output_type": "stream",
     "text": [
      "\n",
      "\n",
      "\n",
      "  0%|                                                                                          | 0/129 [00:00<?, ?it/s]\n",
      "\n",
      "\n",
      "  1%|▋                                                                                 | 1/129 [00:00<01:22,  1.55it/s]\n",
      "\n",
      "\n",
      "  2%|█▎                                                                                | 2/129 [00:01<01:48,  1.17it/s]\n",
      "\n",
      "\n",
      "  2%|█▉                                                                                | 3/129 [00:03<02:30,  1.19s/it]\n",
      "\n",
      "\n",
      "  3%|██▌                                                                               | 4/129 [00:06<03:19,  1.60s/it]"
     ]
    },
    {
     "ename": "KeyboardInterrupt",
     "evalue": "",
     "output_type": "error",
     "traceback": [
      "\u001b[1;31m---------------------------------------------------------------------------\u001b[0m",
      "\u001b[1;31mKeyboardInterrupt\u001b[0m                         Traceback (most recent call last)",
      "\u001b[1;32m<ipython-input-294-0668fa47d2c4>\u001b[0m in \u001b[0;36m<module>\u001b[1;34m\u001b[0m\n\u001b[0;32m      4\u001b[0m \u001b[1;33m\u001b[0m\u001b[0m\n\u001b[0;32m      5\u001b[0m \u001b[1;32mfor\u001b[0m \u001b[0mi\u001b[0m \u001b[1;32min\u001b[0m \u001b[0mtqdm\u001b[0m\u001b[1;33m(\u001b[0m\u001b[0mx_range\u001b[0m\u001b[1;33m)\u001b[0m\u001b[1;33m:\u001b[0m\u001b[1;33m\u001b[0m\u001b[1;33m\u001b[0m\u001b[0m\n\u001b[1;32m----> 6\u001b[1;33m     \u001b[0mer_i\u001b[0m \u001b[1;33m=\u001b[0m \u001b[0madaboost_clf\u001b[0m\u001b[1;33m(\u001b[0m\u001b[0mY_train\u001b[0m\u001b[1;33m,\u001b[0m \u001b[0mX_train\u001b[0m\u001b[1;33m,\u001b[0m \u001b[0mY_test\u001b[0m\u001b[1;33m,\u001b[0m \u001b[0mX_test\u001b[0m\u001b[1;33m,\u001b[0m \u001b[0mi\u001b[0m\u001b[1;33m,\u001b[0m \u001b[0mclf_tree\u001b[0m\u001b[1;33m)\u001b[0m\u001b[1;33m\u001b[0m\u001b[1;33m\u001b[0m\u001b[0m\n\u001b[0m\u001b[0;32m      7\u001b[0m     \u001b[0mer_train\u001b[0m\u001b[1;33m.\u001b[0m\u001b[0mappend\u001b[0m\u001b[1;33m(\u001b[0m\u001b[0mer_i\u001b[0m\u001b[1;33m[\u001b[0m\u001b[1;36m0\u001b[0m\u001b[1;33m]\u001b[0m\u001b[1;33m)\u001b[0m\u001b[1;33m\u001b[0m\u001b[1;33m\u001b[0m\u001b[0m\n\u001b[0;32m      8\u001b[0m     \u001b[0mer_test\u001b[0m\u001b[1;33m.\u001b[0m\u001b[0mappend\u001b[0m\u001b[1;33m(\u001b[0m\u001b[0mer_i\u001b[0m\u001b[1;33m[\u001b[0m\u001b[1;36m1\u001b[0m\u001b[1;33m]\u001b[0m\u001b[1;33m)\u001b[0m\u001b[1;33m\u001b[0m\u001b[1;33m\u001b[0m\u001b[0m\n",
      "\u001b[1;32m<ipython-input-278-4a778b7ee7c6>\u001b[0m in \u001b[0;36madaboost_clf\u001b[1;34m(Y_train, X_train, Y_test, X_test, M, clf)\u001b[0m\n\u001b[0;32m      7\u001b[0m     \u001b[1;32mfor\u001b[0m \u001b[0mi\u001b[0m \u001b[1;32min\u001b[0m \u001b[0mrange\u001b[0m\u001b[1;33m(\u001b[0m\u001b[0mM\u001b[0m\u001b[1;33m)\u001b[0m\u001b[1;33m:\u001b[0m\u001b[1;33m\u001b[0m\u001b[1;33m\u001b[0m\u001b[0m\n\u001b[0;32m      8\u001b[0m         \u001b[1;31m# Fit a classifier with the specific weights\u001b[0m\u001b[1;33m\u001b[0m\u001b[1;33m\u001b[0m\u001b[1;33m\u001b[0m\u001b[0m\n\u001b[1;32m----> 9\u001b[1;33m         \u001b[0mclf\u001b[0m\u001b[1;33m.\u001b[0m\u001b[0mfit\u001b[0m\u001b[1;33m(\u001b[0m\u001b[0mX_train\u001b[0m\u001b[1;33m,\u001b[0m \u001b[0mY_train\u001b[0m\u001b[1;33m,\u001b[0m \u001b[0msample_weight\u001b[0m \u001b[1;33m=\u001b[0m \u001b[0mw\u001b[0m\u001b[1;33m)\u001b[0m\u001b[1;33m\u001b[0m\u001b[1;33m\u001b[0m\u001b[0m\n\u001b[0m\u001b[0;32m     10\u001b[0m         \u001b[0mpred_train_i\u001b[0m \u001b[1;33m=\u001b[0m \u001b[0mclf\u001b[0m\u001b[1;33m.\u001b[0m\u001b[0mpredict\u001b[0m\u001b[1;33m(\u001b[0m\u001b[0mX_train\u001b[0m\u001b[1;33m)\u001b[0m\u001b[1;33m\u001b[0m\u001b[1;33m\u001b[0m\u001b[0m\n\u001b[0;32m     11\u001b[0m         \u001b[0mpred_test_i\u001b[0m \u001b[1;33m=\u001b[0m \u001b[0mclf\u001b[0m\u001b[1;33m.\u001b[0m\u001b[0mpredict\u001b[0m\u001b[1;33m(\u001b[0m\u001b[0mX_test\u001b[0m\u001b[1;33m)\u001b[0m\u001b[1;33m\u001b[0m\u001b[1;33m\u001b[0m\u001b[0m\n",
      "\u001b[1;32mc:\\python36\\lib\\site-packages\\sklearn\\tree\\tree.py\u001b[0m in \u001b[0;36mfit\u001b[1;34m(self, X, y, sample_weight, check_input, X_idx_sorted)\u001b[0m\n\u001b[0;32m    814\u001b[0m             \u001b[0msample_weight\u001b[0m\u001b[1;33m=\u001b[0m\u001b[0msample_weight\u001b[0m\u001b[1;33m,\u001b[0m\u001b[1;33m\u001b[0m\u001b[1;33m\u001b[0m\u001b[0m\n\u001b[0;32m    815\u001b[0m             \u001b[0mcheck_input\u001b[0m\u001b[1;33m=\u001b[0m\u001b[0mcheck_input\u001b[0m\u001b[1;33m,\u001b[0m\u001b[1;33m\u001b[0m\u001b[1;33m\u001b[0m\u001b[0m\n\u001b[1;32m--> 816\u001b[1;33m             X_idx_sorted=X_idx_sorted)\n\u001b[0m\u001b[0;32m    817\u001b[0m         \u001b[1;32mreturn\u001b[0m \u001b[0mself\u001b[0m\u001b[1;33m\u001b[0m\u001b[1;33m\u001b[0m\u001b[0m\n\u001b[0;32m    818\u001b[0m \u001b[1;33m\u001b[0m\u001b[0m\n",
      "\u001b[1;32mc:\\python36\\lib\\site-packages\\sklearn\\tree\\tree.py\u001b[0m in \u001b[0;36mfit\u001b[1;34m(self, X, y, sample_weight, check_input, X_idx_sorted)\u001b[0m\n\u001b[0;32m    128\u001b[0m         \u001b[0mrandom_state\u001b[0m \u001b[1;33m=\u001b[0m \u001b[0mcheck_random_state\u001b[0m\u001b[1;33m(\u001b[0m\u001b[0mself\u001b[0m\u001b[1;33m.\u001b[0m\u001b[0mrandom_state\u001b[0m\u001b[1;33m)\u001b[0m\u001b[1;33m\u001b[0m\u001b[1;33m\u001b[0m\u001b[0m\n\u001b[0;32m    129\u001b[0m         \u001b[1;32mif\u001b[0m \u001b[0mcheck_input\u001b[0m\u001b[1;33m:\u001b[0m\u001b[1;33m\u001b[0m\u001b[1;33m\u001b[0m\u001b[0m\n\u001b[1;32m--> 130\u001b[1;33m             \u001b[0mX\u001b[0m \u001b[1;33m=\u001b[0m \u001b[0mcheck_array\u001b[0m\u001b[1;33m(\u001b[0m\u001b[0mX\u001b[0m\u001b[1;33m,\u001b[0m \u001b[0mdtype\u001b[0m\u001b[1;33m=\u001b[0m\u001b[0mDTYPE\u001b[0m\u001b[1;33m,\u001b[0m \u001b[0maccept_sparse\u001b[0m\u001b[1;33m=\u001b[0m\u001b[1;34m\"csc\"\u001b[0m\u001b[1;33m)\u001b[0m\u001b[1;33m\u001b[0m\u001b[1;33m\u001b[0m\u001b[0m\n\u001b[0m\u001b[0;32m    131\u001b[0m             \u001b[0my\u001b[0m \u001b[1;33m=\u001b[0m \u001b[0mcheck_array\u001b[0m\u001b[1;33m(\u001b[0m\u001b[0my\u001b[0m\u001b[1;33m,\u001b[0m \u001b[0mensure_2d\u001b[0m\u001b[1;33m=\u001b[0m\u001b[1;32mFalse\u001b[0m\u001b[1;33m,\u001b[0m \u001b[0mdtype\u001b[0m\u001b[1;33m=\u001b[0m\u001b[1;32mNone\u001b[0m\u001b[1;33m)\u001b[0m\u001b[1;33m\u001b[0m\u001b[1;33m\u001b[0m\u001b[0m\n\u001b[0;32m    132\u001b[0m             \u001b[1;32mif\u001b[0m \u001b[0missparse\u001b[0m\u001b[1;33m(\u001b[0m\u001b[0mX\u001b[0m\u001b[1;33m)\u001b[0m\u001b[1;33m:\u001b[0m\u001b[1;33m\u001b[0m\u001b[1;33m\u001b[0m\u001b[0m\n",
      "\u001b[1;32mc:\\python36\\lib\\site-packages\\sklearn\\utils\\validation.py\u001b[0m in \u001b[0;36mcheck_array\u001b[1;34m(array, accept_sparse, accept_large_sparse, dtype, order, copy, force_all_finite, ensure_2d, allow_nd, ensure_min_samples, ensure_min_features, warn_on_dtype, estimator)\u001b[0m\n\u001b[0;32m    494\u001b[0m             \u001b[1;32mtry\u001b[0m\u001b[1;33m:\u001b[0m\u001b[1;33m\u001b[0m\u001b[1;33m\u001b[0m\u001b[0m\n\u001b[0;32m    495\u001b[0m                 \u001b[0mwarnings\u001b[0m\u001b[1;33m.\u001b[0m\u001b[0msimplefilter\u001b[0m\u001b[1;33m(\u001b[0m\u001b[1;34m'error'\u001b[0m\u001b[1;33m,\u001b[0m \u001b[0mComplexWarning\u001b[0m\u001b[1;33m)\u001b[0m\u001b[1;33m\u001b[0m\u001b[1;33m\u001b[0m\u001b[0m\n\u001b[1;32m--> 496\u001b[1;33m                 \u001b[0marray\u001b[0m \u001b[1;33m=\u001b[0m \u001b[0mnp\u001b[0m\u001b[1;33m.\u001b[0m\u001b[0masarray\u001b[0m\u001b[1;33m(\u001b[0m\u001b[0marray\u001b[0m\u001b[1;33m,\u001b[0m \u001b[0mdtype\u001b[0m\u001b[1;33m=\u001b[0m\u001b[0mdtype\u001b[0m\u001b[1;33m,\u001b[0m \u001b[0morder\u001b[0m\u001b[1;33m=\u001b[0m\u001b[0morder\u001b[0m\u001b[1;33m)\u001b[0m\u001b[1;33m\u001b[0m\u001b[1;33m\u001b[0m\u001b[0m\n\u001b[0m\u001b[0;32m    497\u001b[0m             \u001b[1;32mexcept\u001b[0m \u001b[0mComplexWarning\u001b[0m\u001b[1;33m:\u001b[0m\u001b[1;33m\u001b[0m\u001b[1;33m\u001b[0m\u001b[0m\n\u001b[0;32m    498\u001b[0m                 raise ValueError(\"Complex data not supported\\n\"\n",
      "\u001b[1;32mc:\\python36\\lib\\site-packages\\numpy\\core\\_asarray.py\u001b[0m in \u001b[0;36masarray\u001b[1;34m(a, dtype, order)\u001b[0m\n\u001b[0;32m     83\u001b[0m \u001b[1;33m\u001b[0m\u001b[0m\n\u001b[0;32m     84\u001b[0m     \"\"\"\n\u001b[1;32m---> 85\u001b[1;33m     \u001b[1;32mreturn\u001b[0m \u001b[0marray\u001b[0m\u001b[1;33m(\u001b[0m\u001b[0ma\u001b[0m\u001b[1;33m,\u001b[0m \u001b[0mdtype\u001b[0m\u001b[1;33m,\u001b[0m \u001b[0mcopy\u001b[0m\u001b[1;33m=\u001b[0m\u001b[1;32mFalse\u001b[0m\u001b[1;33m,\u001b[0m \u001b[0morder\u001b[0m\u001b[1;33m=\u001b[0m\u001b[0morder\u001b[0m\u001b[1;33m)\u001b[0m\u001b[1;33m\u001b[0m\u001b[1;33m\u001b[0m\u001b[0m\n\u001b[0m\u001b[0;32m     86\u001b[0m \u001b[1;33m\u001b[0m\u001b[0m\n\u001b[0;32m     87\u001b[0m \u001b[1;33m\u001b[0m\u001b[0m\n",
      "\u001b[1;31mKeyboardInterrupt\u001b[0m: "
     ]
    }
   ],
   "source": [
    "# Test with different number of iterations\n",
    "er_train, er_test = [er_tree[0]], [er_tree[1]]\n",
    "x_range = range(10, 1300, 10)\n",
    "\n",
    "for i in tqdm(x_range):\n",
    "    er_i = adaboost_clf(Y_train, X_train, Y_test, X_test, i, clf_tree)\n",
    "    er_train.append(er_i[0])\n",
    "    er_test.append(er_i[1])\n",
    "    \n",
    "# Compare error rate vs number of iterations\n",
    "plot_error_rate(er_train, er_test)"
   ]
  },
  {
   "cell_type": "code",
   "execution_count": 277,
   "metadata": {},
   "outputs": [
    {
     "name": "stderr",
     "output_type": "stream",
     "text": [
      "\n",
      "\n",
      "  0%|                                                                                           | 0/39 [00:00<?, ?it/s]"
     ]
    },
    {
     "name": "stdout",
     "output_type": "stream",
     "text": [
      "[0.0002465  0.00022215 0.00022215 ... 0.00022215 0.00019147 0.00022215]\n"
     ]
    },
    {
     "name": "stderr",
     "output_type": "stream",
     "text": [
      "\n",
      "\n",
      "  3%|██▏                                                                                | 1/39 [00:00<00:24,  1.56it/s]"
     ]
    },
    {
     "name": "stdout",
     "output_type": "stream",
     "text": [
      "[0.00052061 0.00055462 0.00044885 ... 0.00039907 0.00039968 0.00044885]\n"
     ]
    },
    {
     "name": "stderr",
     "output_type": "stream",
     "text": [
      "\n",
      "\n",
      "  5%|████▎                                                                              | 2/39 [00:01<00:30,  1.22it/s]"
     ]
    },
    {
     "name": "stdout",
     "output_type": "stream",
     "text": [
      "[0.0012816  0.00135754 0.00094335 ... 0.00080224 0.00097829 0.00109865]\n"
     ]
    },
    {
     "name": "stderr",
     "output_type": "stream",
     "text": [
      "\n",
      "\n",
      "  8%|██████▍                                                                            | 3/39 [00:03<00:43,  1.19s/it]"
     ]
    },
    {
     "name": "stdout",
     "output_type": "stream",
     "text": [
      "[0.00248493 0.00287617 0.00199864 ... 0.00169968 0.0017665  0.00232769]\n"
     ]
    },
    {
     "name": "stderr",
     "output_type": "stream",
     "text": [
      "\n",
      "\n",
      " 10%|████████▌                                                                          | 4/39 [00:06<00:57,  1.66s/it]"
     ]
    },
    {
     "name": "stdout",
     "output_type": "stream",
     "text": [
      "[0.00535665 0.0051191  0.00415927 ... 0.00304296 0.00367617 0.00484403]\n"
     ]
    },
    {
     "name": "stderr",
     "output_type": "stream",
     "text": [
      "\n",
      "\n",
      " 13%|██████████▋                                                                        | 5/39 [00:09<01:13,  2.15s/it]"
     ]
    },
    {
     "name": "stdout",
     "output_type": "stream",
     "text": [
      "[0.01005156 0.01074055 0.00737637 ... 0.00638454 0.00771309 0.01016341]\n"
     ]
    },
    {
     "name": "stderr",
     "output_type": "stream",
     "text": [
      "\n",
      "\n",
      " 15%|████████████▊                                                                      | 6/39 [00:13<01:26,  2.62s/it]"
     ]
    },
    {
     "name": "stdout",
     "output_type": "stream",
     "text": [
      "[0.0217951  0.01980474 0.01643211 ... 0.01048368 0.01718222 0.02000422]\n"
     ]
    },
    {
     "name": "stderr",
     "output_type": "stream",
     "text": [
      "\n",
      "\n",
      " 18%|██████████████▉                                                                    | 7/39 [00:18<01:44,  3.26s/it]"
     ]
    },
    {
     "name": "stdout",
     "output_type": "stream",
     "text": [
      "[0.04413343 0.03885718 0.03224004 ... 0.02056912 0.02954155 0.03465309]\n"
     ]
    },
    {
     "name": "stderr",
     "output_type": "stream",
     "text": [
      "\n",
      "\n",
      " 21%|█████████████████                                                                  | 8/39 [00:23<01:55,  3.74s/it]"
     ]
    },
    {
     "name": "stdout",
     "output_type": "stream",
     "text": [
      "[0.07678924 0.08284132 0.06873395 ... 0.03826238 0.06298094 0.07387845]\n"
     ]
    },
    {
     "name": "stderr",
     "output_type": "stream",
     "text": [
      "\n",
      "\n",
      " 23%|███████████████████▏                                                               | 9/39 [00:28<02:07,  4.25s/it]"
     ]
    },
    {
     "name": "stdout",
     "output_type": "stream",
     "text": [
      "[0.13120932 0.15242556 0.12646842 ... 0.05303152 0.11588304 0.13593414]\n"
     ]
    },
    {
     "name": "stderr",
     "output_type": "stream",
     "text": [
      "\n",
      "\n",
      " 26%|█████████████████████                                                             | 10/39 [00:34<02:19,  4.81s/it]"
     ]
    },
    {
     "name": "stdout",
     "output_type": "stream",
     "text": [
      "[0.21265134 0.26773952 0.22126074 ... 0.10344794 0.22605163 0.26516507]\n"
     ]
    },
    {
     "name": "stderr",
     "output_type": "stream",
     "text": [
      "\n",
      "\n",
      " 28%|███████████████████████▏                                                          | 11/39 [00:41<02:32,  5.45s/it]"
     ]
    },
    {
     "name": "stdout",
     "output_type": "stream",
     "text": [
      "[0.46854792 0.45603576 0.44682997 ... 0.20891026 0.34287642 0.47741327]\n"
     ]
    },
    {
     "name": "stderr",
     "output_type": "stream",
     "text": [
      "\n",
      "\n",
      " 31%|█████████████████████████▏                                                        | 12/39 [00:49<02:41,  5.99s/it]"
     ]
    },
    {
     "name": "stdout",
     "output_type": "stream",
     "text": [
      "[0.88212231 0.89910393 0.88095412 ... 0.36617238 0.67600298 0.94125107]\n"
     ]
    },
    {
     "name": "stderr",
     "output_type": "stream",
     "text": [
      "\n",
      "\n",
      " 33%|███████████████████████████▎                                                      | 13/39 [00:56<02:50,  6.56s/it]"
     ]
    },
    {
     "name": "stdout",
     "output_type": "stream",
     "text": [
      "[1.74074815 1.48085578 1.45096241 ... 0.60309879 1.11340068 1.55027361]\n"
     ]
    },
    {
     "name": "stderr",
     "output_type": "stream",
     "text": [
      "\n",
      "\n",
      " 36%|█████████████████████████████▍                                                    | 14/39 [01:05<02:59,  7.17s/it]"
     ]
    },
    {
     "name": "stdout",
     "output_type": "stream",
     "text": [
      "[2.80065777 2.5245404  1.89025113 ... 1.02815363 1.89810852 2.27016071]\n"
     ]
    },
    {
     "name": "stderr",
     "output_type": "stream",
     "text": [
      "\n",
      "\n",
      " 38%|███████████████████████████████▌                                                  | 15/39 [01:15<03:09,  7.88s/it]"
     ]
    },
    {
     "name": "stdout",
     "output_type": "stream",
     "text": [
      "[3.98308107 4.32719578 3.23999043 ... 1.76230971 3.25345842 3.89117554]\n"
     ]
    },
    {
     "name": "stderr",
     "output_type": "stream",
     "text": [
      "\n",
      "\n",
      " 41%|█████████████████████████████████▋                                                | 16/39 [01:25<03:20,  8.70s/it]"
     ]
    },
    {
     "name": "stdout",
     "output_type": "stream",
     "text": [
      "[6.95327137 6.96705918 4.6802167  ... 2.55099651 5.23827404 6.26503899]\n"
     ]
    },
    {
     "name": "stderr",
     "output_type": "stream",
     "text": [
      "\n",
      "\n",
      " 44%|███████████████████████████████████▋                                              | 17/39 [01:36<03:21,  9.18s/it]"
     ]
    },
    {
     "name": "stdout",
     "output_type": "stream",
     "text": [
      "[10.1851345  10.44473382  7.01639191 ...  3.82435096  7.85300894\n",
      "  9.39229349]\n"
     ]
    },
    {
     "name": "stderr",
     "output_type": "stream",
     "text": [
      "\n",
      "\n",
      " 46%|█████████████████████████████████████▊                                            | 18/39 [01:48<03:33, 10.16s/it]"
     ]
    },
    {
     "name": "stdout",
     "output_type": "stream",
     "text": [
      "[15.9340043  20.78246757 11.98097094 ...  7.60952373 14.21193991\n",
      " 18.68836854]\n"
     ]
    },
    {
     "name": "stderr",
     "output_type": "stream",
     "text": [
      "\n",
      "\n",
      " 49%|███████████████████████████████████████▉                                          | 19/39 [02:00<03:34, 10.73s/it]"
     ]
    },
    {
     "name": "stdout",
     "output_type": "stream",
     "text": [
      "[29.11915124 28.72962746 18.58237858 ... 11.80230313 19.64654763\n",
      " 28.98549217]\n"
     ]
    },
    {
     "name": "stderr",
     "output_type": "stream",
     "text": [
      "\n",
      "\n",
      " 51%|██████████████████████████████████████████                                        | 20/39 [02:13<03:34, 11.31s/it]"
     ]
    },
    {
     "name": "stdout",
     "output_type": "stream",
     "text": [
      "[43.33160807 51.31724894 38.63783627 ... 21.08143339 40.85053414\n",
      " 60.26874846]\n"
     ]
    },
    {
     "name": "stderr",
     "output_type": "stream",
     "text": [
      "\n",
      "\n",
      " 54%|████████████████████████████████████████████▏                                     | 21/39 [02:27<03:37, 12.08s/it]"
     ]
    },
    {
     "name": "stdout",
     "output_type": "stream",
     "text": [
      "[95.66730132 90.60352501 68.21729998 ... 37.22047103 72.12394405\n",
      " 82.09055439]\n"
     ]
    },
    {
     "name": "stderr",
     "output_type": "stream",
     "text": [
      "\n",
      "\n",
      " 56%|██████████████████████████████████████████████▎                                   | 22/39 [02:40<03:34, 12.59s/it]"
     ]
    },
    {
     "name": "stdout",
     "output_type": "stream",
     "text": [
      "[145.99869166 167.36913263 126.01574085 ...  56.413957   121.4113489\n",
      " 151.64338126]\n"
     ]
    },
    {
     "name": "stderr",
     "output_type": "stream",
     "text": [
      "\n",
      "\n",
      " 59%|████████████████████████████████████████████████▎                                 | 23/39 [02:55<03:30, 13.16s/it]"
     ]
    },
    {
     "name": "stdout",
     "output_type": "stream",
     "text": [
      "[227.08152405 248.21033014 186.88277908 ...  83.66254083 180.05441337\n",
      " 207.39006178]\n"
     ]
    },
    {
     "name": "stderr",
     "output_type": "stream",
     "text": [
      "\n",
      "\n",
      " 62%|██████████████████████████████████████████████████▍                               | 24/39 [03:10<03:26, 13.79s/it]"
     ]
    },
    {
     "name": "stdout",
     "output_type": "stream",
     "text": [
      "[397.0846334  469.15680454 270.45150319 ... 130.6568958  340.33133582\n",
      " 339.21070777]\n"
     ]
    },
    {
     "name": "stderr",
     "output_type": "stream",
     "text": [
      "\n",
      "\n",
      " 64%|████████████████████████████████████████████████████▌                             | 25/39 [03:29<03:33, 15.27s/it]"
     ]
    },
    {
     "name": "stdout",
     "output_type": "stream",
     "text": [
      "[659.46448695 696.88427296 461.46915143 ... 222.93877505 580.70452888\n",
      " 503.86268552]\n"
     ]
    },
    {
     "name": "stderr",
     "output_type": "stream",
     "text": [
      "\n",
      "\n",
      " 67%|██████████████████████████████████████████████████████▋                           | 26/39 [03:46<03:25, 15.79s/it]"
     ]
    },
    {
     "name": "stdout",
     "output_type": "stream",
     "text": [
      "[1050.24757075 1364.21140134  793.16081319 ...  436.42198644  843.83086092\n",
      "  866.02568374]\n"
     ]
    },
    {
     "name": "stderr",
     "output_type": "stream",
     "text": [
      "\n",
      "\n",
      " 69%|████████████████████████████████████████████████████████▊                         | 27/39 [04:05<03:22, 16.89s/it]"
     ]
    },
    {
     "name": "stdout",
     "output_type": "stream",
     "text": [
      "[1527.6452834  2006.26573937 1166.45511374 ...  641.82023288 1240.97258271\n",
      " 1273.6132076 ]\n"
     ]
    },
    {
     "name": "stderr",
     "output_type": "stream",
     "text": [
      "\n",
      "\n",
      " 72%|██████████████████████████████████████████████████████████▊                       | 28/39 [04:23<03:08, 17.13s/it]"
     ]
    },
    {
     "name": "stdout",
     "output_type": "stream",
     "text": [
      "[2292.18203361 2898.7789478  1547.36744639 ...  927.34224725 1793.03525299\n",
      " 1840.19648115]\n"
     ]
    },
    {
     "name": "stderr",
     "output_type": "stream",
     "text": [
      "\n",
      "\n",
      " 74%|████████████████████████████████████████████████████████████▉                     | 29/39 [04:41<02:55, 17.50s/it]"
     ]
    },
    {
     "name": "stdout",
     "output_type": "stream",
     "text": [
      "[3177.33624393 4085.86675572 2181.03460868 ... 1307.10099923 2527.30658804\n",
      " 2593.78095457]\n"
     ]
    },
    {
     "name": "stderr",
     "output_type": "stream",
     "text": [
      "\n",
      "\n",
      " 77%|███████████████████████████████████████████████████████████████                   | 30/39 [05:00<02:41, 17.94s/it]"
     ]
    },
    {
     "name": "stdout",
     "output_type": "stream",
     "text": [
      "[4278.26391198 5571.56096776 2974.09779163 ... 1782.38629492 3446.28045439\n",
      " 3337.90302986]\n"
     ]
    },
    {
     "name": "stderr",
     "output_type": "stream",
     "text": [
      "\n",
      "\n",
      " 79%|█████████████████████████████████████████████████████████████████▏                | 31/39 [05:20<02:27, 18.44s/it]"
     ]
    },
    {
     "name": "stdout",
     "output_type": "stream",
     "text": [
      "[5817.93450288 7690.75008858 4105.32039167 ... 2460.33160811 4757.10162075\n",
      " 4607.50194983]\n"
     ]
    },
    {
     "name": "stderr",
     "output_type": "stream",
     "text": [
      "\n",
      "\n",
      " 82%|███████████████████████████████████████████████████████████████████▎              | 32/39 [05:39<02:11, 18.72s/it]"
     ]
    },
    {
     "name": "stdout",
     "output_type": "stream",
     "text": [
      "[ 7842.00594499 11791.50699794  5611.96835162 ...  3772.19608493\n",
      "  7293.61849038  7064.25132252]\n"
     ]
    },
    {
     "name": "stderr",
     "output_type": "stream",
     "text": [
      "\n",
      "\n",
      " 85%|█████████████████████████████████████████████████████████████████████▍            | 33/39 [05:59<01:54, 19.01s/it]"
     ]
    },
    {
     "name": "stdout",
     "output_type": "stream",
     "text": [
      "[12528.77884669 21892.27923516 11614.30669314 ...  6739.1478034\n",
      " 13541.43559886 13675.45869714]\n"
     ]
    },
    {
     "name": "stderr",
     "output_type": "stream",
     "text": [
      "\n",
      "\n",
      " 87%|███████████████████████████████████████████████████████████████████████▍          | 34/39 [06:20<01:37, 19.48s/it]"
     ]
    },
    {
     "name": "stdout",
     "output_type": "stream",
     "text": [
      "[19996.17941124 32102.39512698 17030.98423806 ...  9882.14992509\n",
      " 19856.88705647 20053.41581489]\n"
     ]
    },
    {
     "name": "stderr",
     "output_type": "stream",
     "text": [
      "\n",
      "\n",
      " 90%|█████████████████████████████████████████████████████████████████████████▌        | 35/39 [06:41<01:19, 19.95s/it]"
     ]
    },
    {
     "name": "stdout",
     "output_type": "stream",
     "text": [
      "[27066.25707214 46738.35852634 24795.66537719 ... 13510.54082133\n",
      " 28909.93967246 29196.06883931]\n"
     ]
    },
    {
     "name": "stderr",
     "output_type": "stream",
     "text": [
      "\n",
      "\n",
      " 92%|███████████████████████████████████████████████████████████████████████████▋      | 36/39 [07:04<01:03, 21.13s/it]"
     ]
    },
    {
     "name": "stdout",
     "output_type": "stream",
     "text": [
      "[37598.15894775 62128.08660693 34978.26282741 ... 19058.78469484\n",
      " 40782.10658215 38930.93262602]\n"
     ]
    },
    {
     "name": "stderr",
     "output_type": "stream",
     "text": [
      "\n",
      "\n",
      " 95%|█████████████████████████████████████████████████████████████████████████████▊    | 37/39 [07:27<00:42, 21.45s/it]"
     ]
    },
    {
     "name": "stdout",
     "output_type": "stream",
     "text": [
      "[56666.03536998 86707.70700215 48816.64848094 ... 26598.97655616\n",
      " 56916.65624323 54333.10574676]\n"
     ]
    },
    {
     "name": "stderr",
     "output_type": "stream",
     "text": [
      "\n",
      "\n",
      " 97%|███████████████████████████████████████████████████████████████████████████████▉  | 38/39 [07:51<00:22, 22.26s/it]"
     ]
    },
    {
     "name": "stdout",
     "output_type": "stream",
     "text": [
      "[ 81090.51649219 123684.40724312  73654.78891745 ...  42944.88305315\n",
      "  76240.38313837  81791.18898573]\n"
     ]
    },
    {
     "name": "stderr",
     "output_type": "stream",
     "text": [
      "\n",
      "\n",
      "100%|██████████████████████████████████████████████████████████████████████████████████| 39/39 [08:17<00:00, 12.77s/it]\n",
      "c:\\python36\\lib\\site-packages\\ipykernel_launcher.py:7: UserWarning: FixedFormatter should only be used together with FixedLocator\n",
      "  import sys\n"
     ]
    },
    {
     "data": {
      "image/png": "[encoded data removed]",
      "text/plain": [
       "<Figure size 576x432 with 1 Axes>"
      ]
     },
     "metadata": {
      "needs_background": "light"
     },
     "output_type": "display_data"
    }
   ],
   "source": [
    "# Test with different number of iterations\n",
    "er_train, er_test = [er_tree[0]], [er_tree[1]]\n",
    "x_range = range(10, 400, 10)\n",
    "\n",
    "for i in tqdm(x_range):\n",
    "    er_i = adaboost_clf(Y_train, X_train, Y_test, X_test, i, clf_tree)\n",
    "    er_train.append(er_i[0])\n",
    "    er_test.append(er_i[1])\n",
    "    \n",
    "# Compare error rate vs number of iterations\n",
    "plot_error_rate(er_train, er_test)"
   ]
  },
  {
   "cell_type": "markdown",
   "metadata": {},
   "source": [
    "# PCA for dimensionality reduction and image denoising"
   ]
  },
  {
   "cell_type": "code",
   "execution_count": 5,
   "metadata": {},
   "outputs": [
    {
     "name": "stderr",
     "output_type": "stream",
     "text": [
      "Using TensorFlow backend.\n"
     ]
    }
   ],
   "source": [
    "from keras.datasets import mnist"
   ]
  },
  {
   "cell_type": "code",
   "execution_count": 6,
   "metadata": {},
   "outputs": [],
   "source": [
    "import numpy as np\n",
    "import matplotlib.pyplot as plt"
   ]
  },
  {
   "cell_type": "code",
   "execution_count": 7,
   "metadata": {},
   "outputs": [],
   "source": [
    "(x_train, y_train), (x_test, y_test) = mnist.load_data()"
   ]
  },
  {
   "cell_type": "code",
   "execution_count": 8,
   "metadata": {},
   "outputs": [
    {
     "data": {
      "text/plain": [
       "(60000, 28, 28)"
      ]
     },
     "execution_count": 8,
     "metadata": {},
     "output_type": "execute_result"
    }
   ],
   "source": [
    "x_train.shape"
   ]
  },
  {
   "cell_type": "code",
   "execution_count": 9,
   "metadata": {},
   "outputs": [
    {
     "data": {
      "text/plain": [
       "60000"
      ]
     },
     "execution_count": 9,
     "metadata": {},
     "output_type": "execute_result"
    }
   ],
   "source": [
    "len(x_train)"
   ]
  },
  {
   "cell_type": "code",
   "execution_count": 10,
   "metadata": {},
   "outputs": [],
   "source": [
    "x_train = x_train.reshape(len(x_train), -1)/255\n",
    "x_test = x_test.reshape(len(x_test), -1)/255"
   ]
  },
  {
   "cell_type": "code",
   "execution_count": 11,
   "metadata": {},
   "outputs": [
    {
     "data": {
      "text/plain": [
       "(60000, 784)"
      ]
     },
     "execution_count": 11,
     "metadata": {},
     "output_type": "execute_result"
    }
   ],
   "source": [
    "x_train.shape"
   ]
  },
  {
   "cell_type": "markdown",
   "metadata": {},
   "source": [
    "## Question 1. \n",
    "\n",
    "Compute the eigendecomposition of the sample covariance matrix and use the eigenvalues to calculate the percentage of variance explained (given by the eigenvalues).\n",
    "Plot the cumulative sum of these percentages versus the number of components."
   ]
  },
  {
   "cell_type": "code",
   "execution_count": 12,
   "metadata": {},
   "outputs": [],
   "source": [
    "all_col_mean = np.mean(x_train,0) # np.mean(x,i) -> i : 0 for columns -- 1 for for rows\n",
    "x_bar = x_train - all_col_mean"
   ]
  },
  {
   "cell_type": "code",
   "execution_count": 13,
   "metadata": {},
   "outputs": [],
   "source": [
    "#np.mean(x_bar,0) #The mean of each feature becomes close to zero."
   ]
  },
  {
   "cell_type": "code",
   "execution_count": 14,
   "metadata": {},
   "outputs": [],
   "source": [
    "cov_x = np.cov(x_bar.T) # check what would happen if we do the eigendecomp using X.t*X rather than using cov matrix (there should be a scalar diff)\n",
    "\n",
    "# the scalar is (1/N-1) https://en.wikipedia.org/wiki/Sample_mean_and_covariance"
   ]
  },
  {
   "cell_type": "code",
   "execution_count": 15,
   "metadata": {},
   "outputs": [
    {
     "data": {
      "text/plain": [
       "(784, 784)"
      ]
     },
     "execution_count": 15,
     "metadata": {},
     "output_type": "execute_result"
    }
   ],
   "source": [
    "cov_x.shape"
   ]
  },
  {
   "cell_type": "code",
   "execution_count": 16,
   "metadata": {},
   "outputs": [],
   "source": [
    "w, P = np.linalg.eigh(cov_x)"
   ]
  },
  {
   "cell_type": "code",
   "execution_count": 17,
   "metadata": {},
   "outputs": [],
   "source": [
    "#w"
   ]
  },
  {
   "cell_type": "code",
   "execution_count": 18,
   "metadata": {},
   "outputs": [
    {
     "name": "stdout",
     "output_type": "stream",
     "text": [
      "0.0014637421981606215\n",
      "50.4245130074737\n"
     ]
    }
   ],
   "source": [
    "d= 169\n",
    "print(np.sum(w[:d]))\n",
    "w = -np.sort(-w)\n",
    "print(np.sum(w[:d]))"
   ]
  },
  {
   "cell_type": "code",
   "execution_count": 19,
   "metadata": {},
   "outputs": [],
   "source": [
    "#P[:1 , :169].real"
   ]
  },
  {
   "cell_type": "code",
   "execution_count": 20,
   "metadata": {},
   "outputs": [
    {
     "name": "stdout",
     "output_type": "stream",
     "text": [
      "(784,)\n"
     ]
    }
   ],
   "source": [
    "print(w.shape)"
   ]
  },
  {
   "cell_type": "code",
   "execution_count": 21,
   "metadata": {},
   "outputs": [
    {
     "name": "stdout",
     "output_type": "stream",
     "text": [
      "(784, 784)\n"
     ]
    }
   ],
   "source": [
    "print(P.shape)"
   ]
  },
  {
   "cell_type": "code",
   "execution_count": 22,
   "metadata": {},
   "outputs": [],
   "source": [
    "w = -np.sort(-w)\n",
    "w_kept = w[:d]\n",
    "P_kept = np.diag(w_kept)"
   ]
  },
  {
   "cell_type": "code",
   "execution_count": 23,
   "metadata": {},
   "outputs": [],
   "source": [
    "#w_kept.real"
   ]
  },
  {
   "cell_type": "code",
   "execution_count": 24,
   "metadata": {},
   "outputs": [],
   "source": [
    "P_kept = P[:500 , :500]"
   ]
  },
  {
   "cell_type": "code",
   "execution_count": 25,
   "metadata": {},
   "outputs": [
    {
     "name": "stdout",
     "output_type": "stream",
     "text": [
      "(500, 500)\n"
     ]
    }
   ],
   "source": [
    "print(P_kept.shape)"
   ]
  },
  {
   "cell_type": "code",
   "execution_count": 26,
   "metadata": {},
   "outputs": [
    {
     "data": {
      "text/plain": [
       "-6.10079439821295"
      ]
     },
     "execution_count": 26,
     "metadata": {},
     "output_type": "execute_result"
    }
   ],
   "source": [
    "np.sum(P) - np.sum(P_kept)"
   ]
  },
  {
   "cell_type": "code",
   "execution_count": 27,
   "metadata": {},
   "outputs": [
    {
     "data": {
      "text/plain": [
       "0.9999999999999994"
      ]
     },
     "execution_count": 27,
     "metadata": {},
     "output_type": "execute_result"
    }
   ],
   "source": [
    "percentage_eigen_value = [w[i]/np.sum(w) for i in range(len(w)) ]\n",
    "sum(percentage_eigen_value)"
   ]
  },
  {
   "cell_type": "code",
   "execution_count": 28,
   "metadata": {},
   "outputs": [
    {
     "data": {
      "text/plain": [
       "[<matplotlib.lines.Line2D at 0x1d598386ef0>]"
      ]
     },
     "execution_count": 28,
     "metadata": {},
     "output_type": "execute_result"
    },
    {
     "data": {
      "image/png": "[encoded data removed]",
      "text/plain": [
       "<Figure size 432x288 with 1 Axes>"
      ]
     },
     "metadata": {
      "needs_background": "light"
     },
     "output_type": "display_data"
    }
   ],
   "source": [
    "plt.plot(percentage_eigen_value)"
   ]
  },
  {
   "cell_type": "code",
   "execution_count": 29,
   "metadata": {},
   "outputs": [],
   "source": [
    "my_cumulative_percentage_eigen_value = [np.sum(percentage_eigen_value[:i]) for i in range(len(w))]"
   ]
  },
  {
   "cell_type": "code",
   "execution_count": 30,
   "metadata": {},
   "outputs": [],
   "source": [
    "cumulative_percentage_eigen_value = np.cumsum(percentage_eigen_value)"
   ]
  },
  {
   "cell_type": "code",
   "execution_count": 31,
   "metadata": {},
   "outputs": [],
   "source": [
    "#cumulative_percentage_eigen_value"
   ]
  },
  {
   "cell_type": "code",
   "execution_count": 32,
   "metadata": {},
   "outputs": [
    {
     "data": {
      "text/plain": [
       "False"
      ]
     },
     "execution_count": 32,
     "metadata": {},
     "output_type": "execute_result"
    }
   ],
   "source": [
    "np.allclose(cumulative_percentage_eigen_value, my_cumulative_percentage_eigen_value,  rtol=1e-05)"
   ]
  },
  {
   "cell_type": "code",
   "execution_count": 33,
   "metadata": {},
   "outputs": [
    {
     "name": "stdout",
     "output_type": "stream",
     "text": [
      "err_precision =  0.9999999999996942\n"
     ]
    }
   ],
   "source": [
    "err_precision = 0\n",
    "for i in range(len(cumulative_percentage_eigen_value)):\n",
    "    err_i = cumulative_percentage_eigen_value[i] - my_cumulative_percentage_eigen_value[i]\n",
    "    err_precision = err_precision + err_i\n",
    "print(\"err_precision = \",err_precision)"
   ]
  },
  {
   "cell_type": "code",
   "execution_count": 34,
   "metadata": {},
   "outputs": [
    {
     "data": {
      "text/plain": [
       "[<matplotlib.lines.Line2D at 0x1d59848bf98>]"
      ]
     },
     "execution_count": 34,
     "metadata": {},
     "output_type": "execute_result"
    },
    {
     "data": {
      "image/png": "[encoded data removed]",
      "text/plain": [
       "<Figure size 432x288 with 1 Axes>"
      ]
     },
     "metadata": {
      "needs_background": "light"
     },
     "output_type": "display_data"
    }
   ],
   "source": [
    "plt.plot(cumulative_percentage_eigen_value)"
   ]
  },
  {
   "cell_type": "code",
   "execution_count": 35,
   "metadata": {},
   "outputs": [
    {
     "data": {
      "text/plain": [
       "[<matplotlib.lines.Line2D at 0x1d5985045c0>]"
      ]
     },
     "execution_count": 35,
     "metadata": {},
     "output_type": "execute_result"
    },
    {
     "data": {
      "image/png": "[encoded data removed]",
      "text/plain": [
       "<Figure size 432x288 with 1 Axes>"
      ]
     },
     "metadata": {
      "needs_background": "light"
     },
     "output_type": "display_data"
    }
   ],
   "source": [
    "plt.plot(my_cumulative_percentage_eigen_value)"
   ]
  },
  {
   "cell_type": "markdown",
   "metadata": {},
   "source": [
    "### Comments :\n",
    "\n",
    "We can clearly see that more than 90% of the data is contained in the first 100 components. Which means that 100 components are sufficient to describe 90% of the data. We also observe that after, there's a certain monotonity, that is the other components doesn't add much informations.\n",
    "This actually was predictible since in our images the real information (the number) is concentrated in few pixels.\n",
    "\n",
    "We will build a function down bellow that will give us the exact number of dimensions to keep in order to keep a percentage of the original data."
   ]
  },
  {
   "cell_type": "code",
   "execution_count": 36,
   "metadata": {},
   "outputs": [],
   "source": [
    "def findNumberOfDimensionByDesiredCumulativePercentage(cumulative_percentage_eigen_value, desiredCumulativePercentage):\n",
    "    \"\"\" \n",
    "    This function helps us find the number of principale components (dimensions) by keeping only the desired percentage\n",
    "    of informations from the original data.\n",
    "    \"\"\"\n",
    "    \n",
    "    for i in range(len(cumulative_percentage_eigen_value)):\n",
    "        if cumulative_percentage_eigen_value[i] >= desiredCumulativePercentage :\n",
    "            return i"
   ]
  },
  {
   "cell_type": "code",
   "execution_count": 37,
   "metadata": {},
   "outputs": [
    {
     "data": {
      "text/plain": [
       "86"
      ]
     },
     "execution_count": 37,
     "metadata": {},
     "output_type": "execute_result"
    }
   ],
   "source": [
    "desiredCumulativePercentage = 0.90\n",
    "findNumberOfDimensionByDesiredCumulativePercentage(cumulative_percentage_eigen_value, desiredCumulativePercentage)"
   ]
  },
  {
   "cell_type": "markdown",
   "metadata": {},
   "source": [
    "* For example to keep 90% of informations of the data we can keep only 86 dimensions, which can be confirmerd from the figure above."
   ]
  },
  {
   "cell_type": "markdown",
   "metadata": {},
   "source": [
    "## Question 2\n",
    "## PCA Algorithm"
   ]
  },
  {
   "cell_type": "code",
   "execution_count": 38,
   "metadata": {},
   "outputs": [],
   "source": [
    "def PCA(X, forcedNbrDim, desiredCumulativePercentage=0.85, plot=False):\n",
    "    \n",
    "    all_col_mean = np.mean(X,0) # np.mean(x,i) -> i : 0 for columns -- 1 for for rows\n",
    "    # we construct the X bar\n",
    "    x_bar = X - all_col_mean \n",
    "    # covariance matrix\n",
    "    cov_x = np.cov(x_bar.T)     \n",
    "    # SVD\n",
    "    w, P = np.linalg.eig(cov_x)\n",
    "    \n",
    "    percentage_eigen_value = [w[i]/np.sum(w) for i in range(len(w)) ]\n",
    "    print(\"Sum of percentage_eigen_value : \", sum(percentage_eigen_value))\n",
    "    cumulative_percentage_eigen_value = np.cumsum(percentage_eigen_value)\n",
    "    \n",
    "    if plot :\n",
    "        plt.plot(cumulative_percentage_eigen_value)\n",
    "    \n",
    "    # number of dimensions to keep \n",
    "    if forcedNbrDim < 0: # we set a negative forcedDim if we want to use the computation from the cumulative percentage\n",
    "        d = findNumberOfDimensionByDesiredCumulativePercentage(cumulative_percentage_eigen_value, desiredCumulativePercentage)\n",
    "    else :\n",
    "        d = forcedNbrDim\n",
    "    \n",
    "    # we keep only the d first eigein values of P\n",
    "    \n",
    "    P_kept = P[: , :d]\n",
    "    print(\"P_kept : \",P_kept.shape)\n",
    "    print(\"Dimensions to keep : \",d)\n",
    "    #w_kept = w[:d] \n",
    "    #P_kept = np.diag(w_kept)\n",
    "    #Y = np.dot(x_bar, P_kept.real)\n",
    "    \n",
    "    Y = np.dot(x_bar, P_kept)\n",
    "    Xhat = np.dot(Y, P_kept.T) + all_col_mean\n",
    "    \n",
    "    # Errors computations\n",
    "    X_fnom = np.linalg.norm(X, 'fro')\n",
    "    M = X - Xhat\n",
    "    M_fnorm = np.linalg.norm(M, 'fro')\n",
    "    reconstructionError = M_fnorm/X_fnom\n",
    "    print(\"Normalized reconstruction error : \",reconstructionError)\n",
    "    return Xhat, Y, d, reconstructionError"
   ]
  },
  {
   "cell_type": "code",
   "execution_count": 39,
   "metadata": {},
   "outputs": [
    {
     "name": "stdout",
     "output_type": "stream",
     "text": [
      "Sum of percentage_eigen_value :  (0.9999999999999998+0j)\n",
      "P_kept :  (784, 58)\n",
      "Dimensions to keep :  58\n",
      "Normalized reconstruction error :  0.3024527547774581\n"
     ]
    }
   ],
   "source": [
    "desiredCumulativePercentage=0.85\n",
    "forcedNbrDim = -1\n",
    "Xhat, Y, d, reconstructionError = PCA(x_train, forcedNbrDim, desiredCumulativePercentage)"
   ]
  },
  {
   "cell_type": "code",
   "execution_count": 40,
   "metadata": {},
   "outputs": [
    {
     "name": "stdout",
     "output_type": "stream",
     "text": [
      "(60000, 784)\n",
      "(60000, 784)\n",
      "(60000, 58)\n"
     ]
    }
   ],
   "source": [
    "print(x_train.shape)\n",
    "print(Xhat.shape)\n",
    "print(Y.shape)"
   ]
  },
  {
   "cell_type": "code",
   "execution_count": 41,
   "metadata": {},
   "outputs": [
    {
     "data": {
      "text/plain": [
       "(28, 28)"
      ]
     },
     "execution_count": 41,
     "metadata": {},
     "output_type": "execute_result"
    }
   ],
   "source": [
    "Xhat[0].reshape(28,-1).shape"
   ]
  },
  {
   "cell_type": "code",
   "execution_count": 42,
   "metadata": {},
   "outputs": [
    {
     "data": {
      "image/png": "[encoded data removed]",
      "text/plain": [
       "<Figure size 432x288 with 1 Axes>"
      ]
     },
     "metadata": {
      "needs_background": "light"
     },
     "output_type": "display_data"
    },
    {
     "data": {
      "text/plain": [
       "<matplotlib.image.AxesImage at 0x1d5985ed2b0>"
      ]
     },
     "execution_count": 42,
     "metadata": {},
     "output_type": "execute_result"
    },
    {
     "data": {
      "image/png": "[encoded data removed]",
      "text/plain": [
       "<Figure size 432x288 with 1 Axes>"
      ]
     },
     "metadata": {
      "needs_background": "light"
     },
     "output_type": "display_data"
    }
   ],
   "source": [
    "i = 0\n",
    "y = Xhat[i].real.reshape(28,28)\n",
    "plt.imshow(y)\n",
    "plt.show()\n",
    "y = x_train[i].real.reshape(28,28)\n",
    "plt.imshow(y)"
   ]
  },
  {
   "cell_type": "code",
   "execution_count": 43,
   "metadata": {},
   "outputs": [
    {
     "name": "stdout",
     "output_type": "stream",
     "text": [
      "----------- p =  50 -------------\n",
      "Sum of percentage_eigen_value :  (0.9999999999999998+0j)\n",
      "P_kept :  (784, 50)\n",
      "Dimensions to keep :  50\n",
      "Normalized reconstruction error :  0.3244839105237107\n"
     ]
    },
    {
     "data": {
      "image/png": "[encoded data removed]",
      "text/plain": [
       "<Figure size 432x288 with 1 Axes>"
      ]
     },
     "metadata": {
      "needs_background": "light"
     },
     "output_type": "display_data"
    },
    {
     "data": {
      "image/png": "[encoded data removed]",
      "text/plain": [
       "<Figure size 432x288 with 1 Axes>"
      ]
     },
     "metadata": {
      "needs_background": "light"
     },
     "output_type": "display_data"
    },
    {
     "name": "stdout",
     "output_type": "stream",
     "text": [
      "\n",
      "\n",
      "----------- p =  250 -------------\n",
      "Sum of percentage_eigen_value :  (0.9999999999999998+0j)\n",
      "P_kept :  (784, 250)\n",
      "Dimensions to keep :  250\n",
      "Normalized reconstruction error :  0.11476437541142882\n"
     ]
    },
    {
     "data": {
      "image/png": "[encoded data removed]",
      "text/plain": [
       "<Figure size 432x288 with 1 Axes>"
      ]
     },
     "metadata": {
      "needs_background": "light"
     },
     "output_type": "display_data"
    },
    {
     "data": {
      "image/png": "[encoded data removed]",
      "text/plain": [
       "<Figure size 432x288 with 1 Axes>"
      ]
     },
     "metadata": {
      "needs_background": "light"
     },
     "output_type": "display_data"
    },
    {
     "name": "stdout",
     "output_type": "stream",
     "text": [
      "\n",
      "\n",
      "----------- p =  500 -------------\n",
      "Sum of percentage_eigen_value :  (0.9999999999999998+0j)\n",
      "P_kept :  (784, 500)\n",
      "Dimensions to keep :  500\n",
      "Normalized reconstruction error :  0.02121724407664908\n"
     ]
    },
    {
     "data": {
      "image/png": "[encoded data removed]",
      "text/plain": [
       "<Figure size 432x288 with 1 Axes>"
      ]
     },
     "metadata": {
      "needs_background": "light"
     },
     "output_type": "display_data"
    },
    {
     "data": {
      "image/png": "[encoded data removed]",
      "text/plain": [
       "<Figure size 432x288 with 1 Axes>"
      ]
     },
     "metadata": {
      "needs_background": "light"
     },
     "output_type": "display_data"
    },
    {
     "name": "stdout",
     "output_type": "stream",
     "text": [
      "\n",
      "\n",
      "[0.3244839105237107, 0.11476437541142882, 0.02121724407664908]\n"
     ]
    }
   ],
   "source": [
    "dimensions = [50, 250, 500]\n",
    "reconstructionErrors = []\n",
    "for p in dimensions :\n",
    "    print(\"----------- p = \",p,\"-------------\")\n",
    "    Xhat, Y, d, reconstructionError = PCA(x_train, p, desiredCumulativePercentage)\n",
    "    reconstructionErrors.append(reconstructionError)\n",
    "    \n",
    "    i = 0\n",
    "    xhat_im = Xhat[i].real.reshape(28,28)\n",
    "    plt.imshow(xhat_im)\n",
    "    plt.show()\n",
    "    x_im = x_train[i].real.reshape(28,28)\n",
    "    plt.imshow(x_im)\n",
    "    plt.title('label %d'%(y_train[i]))\n",
    "    plt.show()\n",
    "    print(\"\\n\")\n",
    "    \n",
    "print(reconstructionErrors)"
   ]
  },
  {
   "cell_type": "markdown",
   "metadata": {},
   "source": [
    "## Playing with the images\n",
    "\n",
    "\n",
    "## Question 3\n",
    "### Adding Noise to image data"
   ]
  },
  {
   "cell_type": "code",
   "execution_count": 281,
   "metadata": {},
   "outputs": [],
   "source": [
    "def generateNoise(data, sigma2, mean=0):\n",
    "    \n",
    "    #cov_matrix = sigma2*np.diag([1,1])\n",
    "    #bruit = sigma2*np.random.multivariate_normal(mean, cov_matrix, data.shape[0])\n",
    "    \n",
    "    bruit = np.random.normal(mean, sigma2, data.shape)       #(data.shape[0], data.shape[1])      \n",
    "    \n",
    "    # we add the noise\n",
    "    data_bruite = data + bruit\n",
    "    \n",
    "    # Rescalling the pixels new values to [0,255]  to avoid having pixels with values greater than 255 or less than 0.\n",
    "    #data_bruite[ data_bruite > 255 ] = 255 \n",
    "    #data_bruite[ data_bruite < 0 ] = 0\n",
    "    data_bruite = np.clip(data_bruite, 0, 1)\n",
    "    #reshaping the data\n",
    "    data_bruite[0].reshape(28,28).shape\n",
    "    \n",
    "    return data_bruite\n",
    "    \n",
    "def plotImageData(nbrImageToPlot, data, label):\n",
    "    \n",
    "    for k in range(nbrImageToPlot):\n",
    "        plt.imshow(data[k].reshape(28,28))\n",
    "        plt.title('label %d'%(label[k]))\n",
    "        plt.show()\n",
    "\n",
    "def addNoiseToData(data, label, sigma2, nbrImageToPlot, mean=0) :\n",
    "    \n",
    "    data_bruite = generateNoise(data, sigma2, mean)\n",
    "    plotImageData(nbrImageToPlot, data_bruite, label)\n",
    "    \n",
    "    return data_bruite"
   ]
  },
  {
   "cell_type": "code",
   "execution_count": 282,
   "metadata": {},
   "outputs": [
    {
     "data": {
      "text/plain": [
       "(28, 28)"
      ]
     },
     "execution_count": 282,
     "metadata": {},
     "output_type": "execute_result"
    }
   ],
   "source": [
    "x_train[0].reshape(28,28).shape"
   ]
  },
  {
   "cell_type": "code",
   "execution_count": 283,
   "metadata": {},
   "outputs": [
    {
     "data": {
      "image/png": "[encoded data removed]",
      "text/plain": [
       "<Figure size 432x288 with 1 Axes>"
      ]
     },
     "metadata": {
      "needs_background": "light"
     },
     "output_type": "display_data"
    },
    {
     "data": {
      "image/png": "[encoded data removed]",
      "text/plain": [
       "<Figure size 432x288 with 1 Axes>"
      ]
     },
     "metadata": {
      "needs_background": "light"
     },
     "output_type": "display_data"
    },
    {
     "name": "stdout",
     "output_type": "stream",
     "text": [
      "min :  0.0\n",
      "max :  1.0\n"
     ]
    }
   ],
   "source": [
    "sigma2 = 0.25\n",
    "mean = 0\n",
    "nbrImageToPlot = 2\n",
    "data_bruite = addNoiseToData(x_train, y_train, sigma2, nbrImageToPlot, mean)\n",
    "print(\"min : \",np.min(data_bruite))\n",
    "print(\"max : \",np.max(data_bruite))"
   ]
  },
  {
   "cell_type": "code",
   "execution_count": 285,
   "metadata": {},
   "outputs": [
    {
     "name": "stdout",
     "output_type": "stream",
     "text": [
      "Sum of percentage_eigen_value :  1.0000000000000018\n",
      "P_kept :  (784, 534)\n",
      "Dimensions to keep :  534\n",
      "Normalized reconstruction error :  0.23137851261503056\n"
     ]
    },
    {
     "data": {
      "image/png": "[encoded data removed]",
      "text/plain": [
       "<Figure size 432x288 with 1 Axes>"
      ]
     },
     "metadata": {
      "needs_background": "light"
     },
     "output_type": "display_data"
    }
   ],
   "source": [
    "desiredCumulativePercentage=0.9\n",
    "forcedNbrDim = -1\n",
    "Xhat, Y, d, reconstructionError = PCA(data_bruite, forcedNbrDim, desiredCumulativePercentage, plot=True)"
   ]
  },
  {
   "cell_type": "markdown",
   "metadata": {},
   "source": [
    "### Comments : \n",
    "\n",
    "In the case where we added the noise, we don't have the same curve for the cumulative explained variance versus the number of components. In fact, this is due to the fact that when there's a noise in the data, each components adds informations and thus is no more useless.\n",
    "\n",
    "We need 534 component to describe 90% of the data, which is almost 5 times higher than the first case without noise.\n",
    "\n",
    "To put in contrast with we had seen in the first, here the real information is hidded by the noise rather then being clear and  concentrated in few pixels."
   ]
  },
  {
   "cell_type": "code",
   "execution_count": 286,
   "metadata": {},
   "outputs": [
    {
     "name": "stdout",
     "output_type": "stream",
     "text": [
      "Sum of percentage_eigen_value :  1.0000000000000018\n",
      "P_kept :  (784, 534)\n",
      "Dimensions to keep :  534\n",
      "Normalized reconstruction error :  0.23137851261503056\n"
     ]
    }
   ],
   "source": [
    "desiredCumulativePercentage=0.9\n",
    "forcedNbrDim = -1\n",
    "\n",
    "Xhat_test, Y, d, reconstructionError = PCA(data_bruite, forcedNbrDim, desiredCumulativePercentage)"
   ]
  },
  {
   "cell_type": "code",
   "execution_count": 287,
   "metadata": {},
   "outputs": [
    {
     "data": {
      "image/png": "[encoded data removed]",
      "text/plain": [
       "<Figure size 432x288 with 1 Axes>"
      ]
     },
     "metadata": {
      "needs_background": "light"
     },
     "output_type": "display_data"
    },
    {
     "data": {
      "image/png": "[encoded data removed]",
      "text/plain": [
       "<Figure size 432x288 with 1 Axes>"
      ]
     },
     "metadata": {
      "needs_background": "light"
     },
     "output_type": "display_data"
    }
   ],
   "source": [
    "i = 0\n",
    "\n",
    "xhat_im = Xhat_test[i].real.reshape(28,28)\n",
    "plt.imshow(xhat_im)\n",
    "plt.title('Recovered data - label %d'%(y_train[i]))\n",
    "plt.show()\n",
    "\n",
    "x_im = data_bruite[i].real.reshape(28,28)\n",
    "plt.imshow(x_im)\n",
    "plt.title('Original data - label %d'%(y_train[i]))\n",
    "plt.show()"
   ]
  },
  {
   "cell_type": "markdown",
   "metadata": {},
   "source": [
    "## Question 4"
   ]
  },
  {
   "cell_type": "code",
   "execution_count": 288,
   "metadata": {},
   "outputs": [
    {
     "data": {
      "text/plain": [
       "0.0"
      ]
     },
     "execution_count": 288,
     "metadata": {},
     "output_type": "execute_result"
    }
   ],
   "source": [
    "np.min(data_bruite)"
   ]
  },
  {
   "cell_type": "code",
   "execution_count": 289,
   "metadata": {},
   "outputs": [
    {
     "name": "stdout",
     "output_type": "stream",
     "text": [
      "----------- sigma2 =  0.15 -------------\n",
      "Sum of percentage_eigen_value :  1.0000000000000007\n",
      "P_kept :  (784, 250)\n",
      "Dimensions to keep :  250\n",
      "Normalized reconstruction error :  0.24568638701131926\n"
     ]
    },
    {
     "data": {
      "image/png": "[encoded data removed]",
      "text/plain": [
       "<Figure size 432x288 with 1 Axes>"
      ]
     },
     "metadata": {
      "needs_background": "light"
     },
     "output_type": "display_data"
    },
    {
     "data": {
      "image/png": "[encoded data removed]",
      "text/plain": [
       "<Figure size 432x288 with 1 Axes>"
      ]
     },
     "metadata": {
      "needs_background": "light"
     },
     "output_type": "display_data"
    },
    {
     "name": "stdout",
     "output_type": "stream",
     "text": [
      "\n",
      "\n",
      "----------- sigma2 =  0.25 -------------\n",
      "Sum of percentage_eigen_value :  1.0\n",
      "P_kept :  (784, 250)\n",
      "Dimensions to keep :  250\n",
      "Normalized reconstruction error :  0.356680088603156\n"
     ]
    },
    {
     "data": {
      "image/png": "[encoded data removed]",
      "text/plain": [
       "<Figure size 432x288 with 1 Axes>"
      ]
     },
     "metadata": {
      "needs_background": "light"
     },
     "output_type": "display_data"
    },
    {
     "data": {
      "image/png": "[encoded data removed]",
      "text/plain": [
       "<Figure size 432x288 with 1 Axes>"
      ]
     },
     "metadata": {
      "needs_background": "light"
     },
     "output_type": "display_data"
    },
    {
     "name": "stdout",
     "output_type": "stream",
     "text": [
      "\n",
      "\n",
      "----------- sigma2 =  0.5 -------------\n",
      "Sum of percentage_eigen_value :  1.0000000000000004\n",
      "P_kept :  (784, 250)\n",
      "Dimensions to keep :  250\n",
      "Normalized reconstruction error :  0.5290028080026036\n"
     ]
    },
    {
     "data": {
      "image/png": "[encoded data removed]",
      "text/plain": [
       "<Figure size 432x288 with 1 Axes>"
      ]
     },
     "metadata": {
      "needs_background": "light"
     },
     "output_type": "display_data"
    },
    {
     "data": {
      "image/png": "[encoded data removed]",
      "text/plain": [
       "<Figure size 432x288 with 1 Axes>"
      ]
     },
     "metadata": {
      "needs_background": "light"
     },
     "output_type": "display_data"
    },
    {
     "name": "stdout",
     "output_type": "stream",
     "text": [
      "\n",
      "\n",
      "[0.24568638701131926, 0.356680088603156, 0.5290028080026036]\n",
      "[250, 250, 250]\n"
     ]
    }
   ],
   "source": [
    "sigmas2 = [0.15, 0.25, 0.50]\n",
    "mean = 0\n",
    "reconstructionErrors = []\n",
    "dimensionsToKeep = []\n",
    "for sigma2 in sigmas2 :\n",
    "    print(\"----------- sigma2 = \",sigma2,\"-------------\")\n",
    "    data_bruite = addNoiseToData(x_train, y_train, sigma2, 0, mean)\n",
    "    \n",
    "    forcedNbrDim = 250\n",
    "    desiredCumulativePercentage= 0.85 # not really usefull here, we already fixed forcedNbrDim to 250, use just for the PCA function params definition\n",
    "    Xhat, Y, d, reconstructionError = PCA(data_bruite, forcedNbrDim, desiredCumulativePercentage)\n",
    "    reconstructionErrors.append(reconstructionError)\n",
    "    dimensionsToKeep.append(d)\n",
    "    \n",
    "    i = 0\n",
    "   \n",
    "    x_im = data_bruite[i].real.reshape(28,28)\n",
    "    plt.imshow(x_im)\n",
    "    plt.title('Noisy data - label %d'%(y_train[i]))\n",
    "    plt.show()\n",
    "    \n",
    "    xhat_im = Xhat[i].real.reshape(28,28)\n",
    "    plt.imshow(xhat_im)\n",
    "    plt.title('Recovered data - label %d'%(y_train[i]))\n",
    "    plt.show()\n",
    "    \n",
    "    print(\"\\n\")\n",
    "    \n",
    "print(reconstructionErrors)\n",
    "print(dimensionsToKeep)"
   ]
  },
  {
   "cell_type": "code",
   "execution_count": 290,
   "metadata": {},
   "outputs": [
    {
     "data": {
      "text/plain": [
       "Text(0, 0.5, 'Reconstruction error')"
      ]
     },
     "execution_count": 290,
     "metadata": {},
     "output_type": "execute_result"
    },
    {
     "data": {
      "image/png": "[encoded data removed]",
      "text/plain": [
       "<Figure size 432x288 with 1 Axes>"
      ]
     },
     "metadata": {
      "needs_background": "light"
     },
     "output_type": "display_data"
    }
   ],
   "source": [
    "plt.plot(sigmas2, reconstructionErrors, '-o')\n",
    "plt.title(\"Reconstruction error by variance\")\n",
    "plt.xlabel('Variance')\n",
    "plt.ylabel('Reconstruction error')"
   ]
  },
  {
   "cell_type": "markdown",
   "metadata": {},
   "source": [
    "### Comments : \n",
    "\n",
    "By fixing the number of components to keep to 250 and varying the variance, we see that the reconstruction error grows with the variance growing as shown in the Figure above.\n",
    "Actually what happens is that, we are not only removing the noise component, but also part of the energy related to the input data, therefore the reconstruction error grows."
   ]
  },
  {
   "cell_type": "markdown",
   "metadata": {},
   "source": [
    "### some trash"
   ]
  },
  {
   "cell_type": "code",
   "execution_count": 82,
   "metadata": {},
   "outputs": [],
   "source": [
    "N = 2000 # number of samples\n",
    "\n",
    "# Training samples\n",
    "X_train = x_train[N:]/255\n",
    "y_train = y_train[:N]\n",
    "\n",
    "# Testing samples\n",
    "X_test = x_train[N:]/255\n",
    "y_test = y_test[:N]"
   ]
  },
  {
   "cell_type": "code",
   "execution_count": 79,
   "metadata": {},
   "outputs": [
    {
     "name": "stdout",
     "output_type": "stream",
     "text": [
      "Number of lines :  28\n",
      "Number of columns :  28\n"
     ]
    }
   ],
   "source": [
    "print(\"Number of lines : \",len(X_test[0]))\n",
    "print(\"Number of columns : \",len(X_test[0][0]))"
   ]
  }
 ],
 "metadata": {
  "kernelspec": {
   "display_name": "Python 3",
   "language": "python",
   "name": "python3"
  },
  "language_info": {
   "codemirror_mode": {
    "name": "ipython",
    "version": 3
   },
   "file_extension": ".py",
   "mimetype": "text/x-python",
   "name": "python",
   "nbconvert_exporter": "python",
   "pygments_lexer": "ipython3",
   "version": "3.6.8"
  }
 },
 "nbformat": 4,
 "nbformat_minor": 2
}
